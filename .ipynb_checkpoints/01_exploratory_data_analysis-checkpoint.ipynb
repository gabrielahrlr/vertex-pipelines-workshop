{
 "cells": [
  {
   "cell_type": "code",
   "execution_count": null,
   "id": "438b9570-dbfa-40d4-8027-b011ccae492d",
   "metadata": {},
   "outputs": [],
   "source": [
    "# Copyright 2022 Google LLC\n",
    "#\n",
    "# Licensed under the Apache License, Version 2.0 (the \"License\");\n",
    "# you may not use this file except in compliance with the License.\n",
    "# You may obtain a copy of the License at\n",
    "#\n",
    "#     https://www.apache.org/licenses/LICENSE-2.0\n",
    "#\n",
    "# Unless required by applicable law or agreed to in writing, software\n",
    "# distributed under the License is distributed on an \"AS IS\" BASIS,\n",
    "# WITHOUT WARRANTIES OR CONDITIONS OF ANY KIND, either express or implied.\n",
    "# See the License for the specific language governing permissions and\n",
    "# limitations under the License."
   ]
  },
  {
   "cell_type": "markdown",
   "id": "7760c5b4-5900-4354-8052-ba509cfb5f67",
   "metadata": {
    "tags": []
   },
   "source": [
    "# 01 - Exploratory Data Analysis\n",
    "\n",
    "## Overview\n",
    "`Vertex Pipelines workshop`, is a series of labs on how to build an end-to-end pipeline using Vertex Pipelines and Kubeflow Pipelines (kfp). In the pipeline we orchestrate data creation, data processing, model training and evaluation, and model deployment. We'll also see how to send payloads the endpoint deployed and how to run batch predition jobs. \n",
    "\n",
    "In this workshop we'll use the **public datase**t [Auto MPG](https://archive.ics.uci.edu/ml/datasets/auto+mpg) for demonstration purposes. The data concerns city-cycle fuel consumption in miles per gallon, to be predicted in terms of 3 multivalued discrete and 5 continuous attributes. The objective will be to build a model to predict \"MPG\" (Miles per Gallon).\n",
    "\n",
    "**Attribute Information**:\n",
    "\n",
    "1. `mpg`: continuous\n",
    "2. `cylinders`: multi-valued discrete\n",
    "3. `displacement`: continuous\n",
    "4. `horsepower`: continuous\n",
    "5. `weight`: continuous\n",
    "6. `acceleration`: continuous\n",
    "7. `model year`: multi-valued discrete\n",
    "8. `origin`: multi-valued discrete\n",
    "9. `car name`: string (unique for each instance)\n",
    "\n",
    "\n",
    "\n",
    "## Notebook Objective\n",
    "\n",
    "This tutorial uses the following Google Cloud Services services:\n",
    "\n",
    "- `BigQuery`\n",
    "\n",
    "Steps performed in this notebook.\n",
    "\n",
    "1. [Load Configuration settings from the setup notebook](#Load-Configuration-settings-from-the-setup-notebook)\n",
    "1. [Read Data from BigQuery as DataFrame](#Read-Data-from-BigQuery-as-DataFrame)\n",
    "1. [Explore the data using pandas](#Explore-the-data-using-pandas)\n",
    "1. [Apply data transformations](#Apply-data-transformations)\n",
    "1. [Explore the datasets using Facets](#Explore-the-datasets-using-Facets)"
   ]
  },
  {
   "cell_type": "markdown",
   "id": "d54d27be-cdad-4641-9aa8-a19b2f7960c0",
   "metadata": {},
   "source": [
    "## Load Configuration settings from the setup notebook"
   ]
  },
  {
   "cell_type": "code",
   "execution_count": null,
   "id": "c716d8aa-64a1-4c01-80eb-4c6d05ce9d32",
   "metadata": {},
   "outputs": [],
   "source": [
    "from src.config import config"
   ]
  },
  {
   "cell_type": "code",
   "execution_count": null,
   "id": "4593c6ff-ae94-42de-a768-f778b651f913",
   "metadata": {},
   "outputs": [],
   "source": [
    "PROJECT_ID = config['PROJECT_ID']\n",
    "REGION = config['REGION']\n",
    "ID = config['ID']\n",
    "BUCKET_NAME = config['BUCKET_NAME']\n",
    "GCS_DATA_URI = config['GCS_DATA_URI']\n",
    "BQ_DATASET_URI = config['BQ_DATASET_URI']"
   ]
  },
  {
   "cell_type": "code",
   "execution_count": null,
   "id": "cd2db9e5-e495-412e-88fe-af6a0986c1b3",
   "metadata": {},
   "outputs": [],
   "source": [
    "BQ_DATASET_URI[5:]"
   ]
  },
  {
   "cell_type": "markdown",
   "id": "2309c1d7-b87f-4a96-8371-9dd23a15bbe1",
   "metadata": {},
   "source": [
    "### Import Libraries"
   ]
  },
  {
   "cell_type": "code",
   "execution_count": null,
   "id": "48a7fcbe-1bde-43b1-a594-d41cd7b8a1b5",
   "metadata": {},
   "outputs": [],
   "source": [
    "import pandas as pd\n",
    "import facets_overview\n",
    "from google.cloud import bigquery\n",
    "from IPython.core.display import display, HTML\n",
    "import base64"
   ]
  },
  {
   "cell_type": "markdown",
   "id": "4cc13e78-791f-4064-a161-7b1428ec5318",
   "metadata": {},
   "source": [
    "---------"
   ]
  },
  {
   "cell_type": "markdown",
   "id": "ee03d693-72cd-46dc-8d96-630f0a25f38c",
   "metadata": {
    "tags": []
   },
   "source": [
    "## Read data from BigQuery as DataFrame"
   ]
  },
  {
   "cell_type": "code",
   "execution_count": null,
   "id": "b9ffa703-204f-4ece-b2fe-7fe5d0edc4b4",
   "metadata": {},
   "outputs": [],
   "source": [
    "BQ_DATASET_URI"
   ]
  },
  {
   "cell_type": "code",
   "execution_count": null,
   "id": "b469c9f9-6882-48d5-98cb-a09e812cc203",
   "metadata": {},
   "outputs": [],
   "source": [
    "BQ_DATASET_URI[5:]"
   ]
  },
  {
   "cell_type": "code",
   "execution_count": null,
   "id": "2684b6a7-31b4-4cc8-98b3-d65883435acc",
   "metadata": {},
   "outputs": [],
   "source": [
    "%%bigquery raw_dataset --project $PROJECT_ID\n",
    "SELECT * FROM `vertex-ai-workshop-2022.fuel_dataset.main`"
   ]
  },
  {
   "cell_type": "markdown",
   "id": "48eb4119-ac4f-4645-8658-692036e8e3b6",
   "metadata": {},
   "source": [
    "------"
   ]
  },
  {
   "cell_type": "markdown",
   "id": "84842528-0c7c-4db6-91cd-5072379dee96",
   "metadata": {},
   "source": [
    "## Explore the data using pandas"
   ]
  },
  {
   "cell_type": "code",
   "execution_count": null,
   "id": "39a5058b-0ac2-4520-9d65-1a3ac4be9200",
   "metadata": {},
   "outputs": [],
   "source": [
    "raw_dataset.head()"
   ]
  },
  {
   "cell_type": "code",
   "execution_count": null,
   "id": "760dab07-c061-47a2-9011-d0ec7ef2d8e8",
   "metadata": {},
   "outputs": [],
   "source": [
    "raw_dataset.describe()"
   ]
  },
  {
   "cell_type": "code",
   "execution_count": null,
   "id": "fa363dcf-591c-4042-b8a3-e0463d40a7cb",
   "metadata": {},
   "outputs": [],
   "source": [
    "raw_dataset.isna().sum(axis=0)"
   ]
  },
  {
   "cell_type": "markdown",
   "id": "ddc53ccc-1fdc-4553-a679-98c456b2fa7a",
   "metadata": {},
   "source": [
    "--------------"
   ]
  },
  {
   "cell_type": "markdown",
   "id": "9b6b432d-cbef-4a12-9503-b9743e0c2f4e",
   "metadata": {},
   "source": [
    "## Apply data transformations "
   ]
  },
  {
   "cell_type": "code",
   "execution_count": null,
   "id": "1147f180-3444-4e0b-9f5a-b813e72dcd1b",
   "metadata": {},
   "outputs": [],
   "source": [
    "raw_dataset.rename(columns = {\n",
    "    'mpg':'MPG',\n",
    "    'cyl':'Cylinders',\n",
    "    'dis':'Displacement',\n",
    "    'hp': 'Horsepower',\n",
    "    'weight': 'Weight',\n",
    "    'accel': 'Acceleration',\n",
    "    'year': 'Model Year',\n",
    "    'origin': 'Origin'}, inplace = True)\n",
    "\n",
    "# Get data in shape\n",
    "dataset = raw_dataset.copy()\n",
    "dataset.tail()\n",
    "dataset = dataset.dropna()\n",
    "dataset['Origin'] = dataset['Origin'].map({1: 'USA', 2: 'Europe', 3: 'Japan'})\n",
    "dataset = pd.get_dummies(dataset, columns=['Origin'], prefix='', prefix_sep='')\n",
    "\n"
   ]
  },
  {
   "cell_type": "markdown",
   "id": "ec1c123c-1e59-405f-a34c-3eca4f115741",
   "metadata": {},
   "source": [
    "### Split Data into Train and Test Datasets"
   ]
  },
  {
   "cell_type": "code",
   "execution_count": null,
   "id": "08c7312b-9966-42f5-a9db-dc1d4afbce06",
   "metadata": {},
   "outputs": [],
   "source": [
    "train_dataset = dataset.sample(frac=0.8, random_state=0)\n",
    "test_dataset = dataset.drop(train_dataset.index)"
   ]
  },
  {
   "cell_type": "markdown",
   "id": "b950cd4f-de88-4572-86ab-dddc484e31a5",
   "metadata": {},
   "source": [
    "------"
   ]
  },
  {
   "cell_type": "markdown",
   "id": "f0f54dd2-73cc-4e2f-abd4-10e6f4eb9d29",
   "metadata": {},
   "source": [
    "## Explore the datasets using Facets\n",
    "\n",
    "[Facets](https://pair-code.github.io/facets/) is an open-source visualization tool released by Google under the PAIR(People + AI Research) initiative. Facets contains two robust visualizations to aid in understanding and analyzing machine learning datasets. Get a sense of the shape of each feature of your dataset using Facets Overview, or explore individual observations using Facets Dive."
   ]
  },
  {
   "cell_type": "markdown",
   "id": "4ca09480-699b-4da0-b058-5af6fc62e872",
   "metadata": {},
   "source": [
    "### Facets Dive\n",
    "\n",
    "Facets Dive provides an interactive interface for exploring the relationship between data points across all of the different features of a dataset. Each individual item in the visualization represents a data point. Position items by \"faceting\" or bucketing them in multiple dimensions by their feature values. Success stories of Dive include the detection of classifier failure, identification of systematic errors, evaluating ground truth and potential new signals for ranking.\n",
    "\n",
    "\n",
    "To use the Dive visualization, the data has to be transformed into JSON format.\n",
    "\n",
    "[source](https://pair-code.github.io/facets/)"
   ]
  },
  {
   "cell_type": "code",
   "execution_count": null,
   "id": "bf965161-c1f3-4644-bf42-fb6d6e178c97",
   "metadata": {},
   "outputs": [],
   "source": [
    "# Display the Dive visualization for the training data.\n",
    "from IPython.core.display import display, HTML\n",
    "\n",
    "jsonstr = dataset.to_json(orient='records')\n",
    "HTML_TEMPLATE = \"\"\"\n",
    "        <script src=\"https://cdnjs.cloudflare.com/ajax/libs/webcomponentsjs/1.3.3/webcomponents-lite.js\"></script>\n",
    "        <link rel=\"import\" href=\"https://raw.githubusercontent.com/PAIR-code/facets/1.0.0/facets-dist/facets-jupyter.html\">\n",
    "        <facets-dive id=\"elem\" height=\"600\"></facets-dive>\n",
    "        <script>\n",
    "          var data = {jsonstr};\n",
    "          document.querySelector(\"#elem\").data = data;\n",
    "        </script>\"\"\"\n",
    "html = HTML_TEMPLATE.format(jsonstr=jsonstr)\n",
    "display(HTML(html))"
   ]
  },
  {
   "cell_type": "code",
   "execution_count": null,
   "id": "7ab73041-6532-4f5a-9ba5-74519976106b",
   "metadata": {},
   "outputs": [],
   "source": [
    "with open('output_facets_dive.html','w') as fo:\n",
    "    fo.write(html)"
   ]
  },
  {
   "cell_type": "markdown",
   "id": "ca84f58a-4802-4184-a80d-7cc5a9f109d8",
   "metadata": {},
   "source": [
    "---------------------"
   ]
  },
  {
   "cell_type": "markdown",
   "id": "4e7276a5-8ec9-4339-9e46-d213c9d6dcad",
   "metadata": {},
   "source": [
    "### Facets Overview \n",
    "\n",
    "Facets Overview takes input feature data from any number of datasets, analyzes them feature by feature and visualizes the analysis\n",
    "\n",
    "Overview gives users a quick understanding of the distribution of values across the features of their dataset(s). Uncover several uncommon and common issues such as unexpected feature values, missing feature values for a large number of observation, training/serving skew and train/test/validation set skew.\n",
    "\n",
    "Some of the information given is:\n",
    "\n",
    "- Statistics\n",
    "- Missing data\n",
    "- Zero values\n",
    "- Distribution of features\n",
    "- Comparison between datasets (incl. distribution comparison)\n",
    "\n",
    "[source](https://pair-code.github.io/facets/)"
   ]
  },
  {
   "cell_type": "code",
   "execution_count": null,
   "id": "b2e7f8d1-4309-434d-9d82-c5cd1a57e117",
   "metadata": {},
   "outputs": [],
   "source": [
    "# Create the feature stats for the datasets and stringify it.\n",
    "import base64\n",
    "from facets_overview.generic_feature_statistics_generator import GenericFeatureStatisticsGenerator"
   ]
  },
  {
   "cell_type": "code",
   "execution_count": null,
   "id": "5519bcd6-ae14-41c9-9fa0-7a5621c86570",
   "metadata": {},
   "outputs": [],
   "source": [
    "gfsg = GenericFeatureStatisticsGenerator()\n",
    "proto = gfsg.ProtoFromDataFrames([{'name': 'train', 'table': train_dataset},\n",
    "                                 {'name': 'test', 'table': test_dataset}])\n",
    "protostr = base64.b64encode(proto.SerializeToString()).decode(\"utf-8\")"
   ]
  },
  {
   "cell_type": "code",
   "execution_count": null,
   "id": "4bce04f7-867d-43c7-9e42-4924a6a94f3f",
   "metadata": {},
   "outputs": [],
   "source": [
    "# Display the facets overview visualization for this data\n",
    "from IPython.core.display import display, HTML\n",
    "\n",
    "HTML_TEMPLATE = \"\"\"\n",
    "        <script src=\"https://cdnjs.cloudflare.com/ajax/libs/webcomponentsjs/1.3.3/webcomponents-lite.js\"></script>\n",
    "        <link rel=\"import\" href=\"https://raw.githubusercontent.com/PAIR-code/facets/1.0.0/facets-dist/facets-jupyter.html\" >\n",
    "        <facets-overview id=\"elem\"></facets-overview>\n",
    "        <script>\n",
    "          document.querySelector(\"#elem\").protoInput = \"{protostr}\";\n",
    "        </script>\"\"\"\n",
    "html = HTML_TEMPLATE.format(protostr=protostr)\n",
    "display(HTML(html))"
   ]
  },
  {
   "cell_type": "code",
   "execution_count": null,
   "id": "a7d20b7e-68b0-451d-9b58-6027ea43923d",
   "metadata": {},
   "outputs": [],
   "source": [
    "with open('output_facets_overview.html','w') as fo:\n",
    "    fo.write(html)"
   ]
  },
  {
   "cell_type": "markdown",
   "id": "8bb89ec7-f6c7-45c8-8fdc-facc3cd085e8",
   "metadata": {},
   "source": [
    "-----"
   ]
  },
  {
   "cell_type": "code",
   "execution_count": null,
   "id": "a763399d-6cd4-4d74-9c5e-deeea4b12c8f",
   "metadata": {},
   "outputs": [],
   "source": []
  }
 ],
 "metadata": {
  "environment": {
   "kernel": "python3",
   "name": "tf2-gpu.2-8.m98",
   "type": "gcloud",
   "uri": "gcr.io/deeplearning-platform-release/tf2-gpu.2-8:m98"
  },
  "kernelspec": {
   "display_name": "Python 3",
   "language": "python",
   "name": "python3"
  },
  "language_info": {
   "codemirror_mode": {
    "name": "ipython",
    "version": 3
   },
   "file_extension": ".py",
   "mimetype": "text/x-python",
   "name": "python",
   "nbconvert_exporter": "python",
   "pygments_lexer": "ipython3",
   "version": "3.7.12"
  }
 },
 "nbformat": 4,
 "nbformat_minor": 5
}
