{
 "cells": [
  {
   "cell_type": "markdown",
   "id": "7760c5b4-5900-4354-8052-ba509cfb5f67",
   "metadata": {
    "tags": []
   },
   "source": [
    "# 01 - Extract, Inspect & Store Dataset"
   ]
  },
  {
   "cell_type": "code",
   "execution_count": 7,
   "id": "106b5656-7cc9-4550-8271-1fc52c38cbdd",
   "metadata": {},
   "outputs": [],
   "source": [
    "#!pip install facets-overview"
   ]
  },
  {
   "cell_type": "code",
   "execution_count": 3,
   "id": "82bb8615-28f1-4383-a8af-06649bc8b542",
   "metadata": {},
   "outputs": [],
   "source": [
    "#!pip install ipywidgets"
   ]
  },
  {
   "cell_type": "code",
   "execution_count": 4,
   "id": "48a7fcbe-1bde-43b1-a594-d41cd7b8a1b5",
   "metadata": {},
   "outputs": [],
   "source": [
    "import pandas as pd\n",
    "import facets_overview\n",
    "from IPython.core.display import display, HTML\n",
    "import base64"
   ]
  },
  {
   "cell_type": "markdown",
   "id": "47f0d0c8-3b17-4718-bd3a-a50063e26dc9",
   "metadata": {},
   "source": [
    "## Download Workshop Data"
   ]
  },
  {
   "cell_type": "code",
   "execution_count": 5,
   "id": "4e43d7b5-1458-4cf2-9781-41db83f83073",
   "metadata": {},
   "outputs": [],
   "source": [
    "url = 'http://archive.ics.uci.edu/ml/machine-learning-databases/auto-mpg/auto-mpg.data'\n",
    "\n",
    "column_names = [\n",
    "    'MPG', 'Cylinders', 'Displacement',\n",
    "    'Horsepower', 'Weight', 'Acceleration', 'Model Year', 'Origin'\n",
    "]\n",
    "\n",
    "raw_dataset = pd.read_csv(\n",
    "    url,\n",
    "    names=column_names,\n",
    "    na_values='?',\n",
    "    comment='\\t',\n",
    "    sep=' ',\n",
    "    skipinitialspace=True,\n",
    ")\n",
    "\n",
    "raw_dataset.rename(\n",
    "    columns = {\n",
    "        'MPG': 'mpg',\n",
    "        'Cylinders': 'cyl',\n",
    "        'Displacement': 'dis',\n",
    "        'Horsepower': 'hp',\n",
    "        'Weight': 'weight',\n",
    "        'Acceleration': 'accel',\n",
    "        'Model Year': 'year',\n",
    "        'Origin': 'origin'\n",
    "    }, inplace = True\n",
    ")\n",
    "\n",
    "raw_dataset.dropna(inplace=True)\n",
    "# gcs_path = 'data/fuel_data.csv'\n",
    "# raw_dataset.to_csv(header=False, index=False, path_or_buf=gcs_path)"
   ]
  },
  {
   "cell_type": "code",
   "execution_count": null,
   "id": "dabf6e9a-2558-4a52-b41b-1d4d9ddc5518",
   "metadata": {},
   "outputs": [],
   "source": []
  },
  {
   "cell_type": "markdown",
   "id": "4cc13e78-791f-4064-a161-7b1428ec5318",
   "metadata": {},
   "source": [
    "---------"
   ]
  },
  {
   "cell_type": "markdown",
   "id": "96350b96-392a-4f03-a34c-5d32901daaa7",
   "metadata": {},
   "source": [
    "##  Quickly Explore the dataset"
   ]
  },
  {
   "cell_type": "code",
   "execution_count": 6,
   "id": "39a5058b-0ac2-4520-9d65-1a3ac4be9200",
   "metadata": {},
   "outputs": [
    {
     "data": {
      "text/html": [
       "<div>\n",
       "<style scoped>\n",
       "    .dataframe tbody tr th:only-of-type {\n",
       "        vertical-align: middle;\n",
       "    }\n",
       "\n",
       "    .dataframe tbody tr th {\n",
       "        vertical-align: top;\n",
       "    }\n",
       "\n",
       "    .dataframe thead th {\n",
       "        text-align: right;\n",
       "    }\n",
       "</style>\n",
       "<table border=\"1\" class=\"dataframe\">\n",
       "  <thead>\n",
       "    <tr style=\"text-align: right;\">\n",
       "      <th></th>\n",
       "      <th>mpg</th>\n",
       "      <th>cyl</th>\n",
       "      <th>dis</th>\n",
       "      <th>hp</th>\n",
       "      <th>weight</th>\n",
       "      <th>accel</th>\n",
       "      <th>year</th>\n",
       "      <th>origin</th>\n",
       "    </tr>\n",
       "  </thead>\n",
       "  <tbody>\n",
       "    <tr>\n",
       "      <th>0</th>\n",
       "      <td>18.0</td>\n",
       "      <td>8</td>\n",
       "      <td>307.0</td>\n",
       "      <td>130.0</td>\n",
       "      <td>3504.0</td>\n",
       "      <td>12.0</td>\n",
       "      <td>70</td>\n",
       "      <td>1</td>\n",
       "    </tr>\n",
       "    <tr>\n",
       "      <th>1</th>\n",
       "      <td>15.0</td>\n",
       "      <td>8</td>\n",
       "      <td>350.0</td>\n",
       "      <td>165.0</td>\n",
       "      <td>3693.0</td>\n",
       "      <td>11.5</td>\n",
       "      <td>70</td>\n",
       "      <td>1</td>\n",
       "    </tr>\n",
       "    <tr>\n",
       "      <th>2</th>\n",
       "      <td>18.0</td>\n",
       "      <td>8</td>\n",
       "      <td>318.0</td>\n",
       "      <td>150.0</td>\n",
       "      <td>3436.0</td>\n",
       "      <td>11.0</td>\n",
       "      <td>70</td>\n",
       "      <td>1</td>\n",
       "    </tr>\n",
       "    <tr>\n",
       "      <th>3</th>\n",
       "      <td>16.0</td>\n",
       "      <td>8</td>\n",
       "      <td>304.0</td>\n",
       "      <td>150.0</td>\n",
       "      <td>3433.0</td>\n",
       "      <td>12.0</td>\n",
       "      <td>70</td>\n",
       "      <td>1</td>\n",
       "    </tr>\n",
       "    <tr>\n",
       "      <th>4</th>\n",
       "      <td>17.0</td>\n",
       "      <td>8</td>\n",
       "      <td>302.0</td>\n",
       "      <td>140.0</td>\n",
       "      <td>3449.0</td>\n",
       "      <td>10.5</td>\n",
       "      <td>70</td>\n",
       "      <td>1</td>\n",
       "    </tr>\n",
       "  </tbody>\n",
       "</table>\n",
       "</div>"
      ],
      "text/plain": [
       "    mpg  cyl    dis     hp  weight  accel  year  origin\n",
       "0  18.0    8  307.0  130.0  3504.0   12.0    70       1\n",
       "1  15.0    8  350.0  165.0  3693.0   11.5    70       1\n",
       "2  18.0    8  318.0  150.0  3436.0   11.0    70       1\n",
       "3  16.0    8  304.0  150.0  3433.0   12.0    70       1\n",
       "4  17.0    8  302.0  140.0  3449.0   10.5    70       1"
      ]
     },
     "execution_count": 6,
     "metadata": {},
     "output_type": "execute_result"
    }
   ],
   "source": [
    "raw_dataset.head()"
   ]
  },
  {
   "cell_type": "code",
   "execution_count": 8,
   "id": "760dab07-c061-47a2-9011-d0ec7ef2d8e8",
   "metadata": {},
   "outputs": [
    {
     "data": {
      "text/html": [
       "<div>\n",
       "<style scoped>\n",
       "    .dataframe tbody tr th:only-of-type {\n",
       "        vertical-align: middle;\n",
       "    }\n",
       "\n",
       "    .dataframe tbody tr th {\n",
       "        vertical-align: top;\n",
       "    }\n",
       "\n",
       "    .dataframe thead th {\n",
       "        text-align: right;\n",
       "    }\n",
       "</style>\n",
       "<table border=\"1\" class=\"dataframe\">\n",
       "  <thead>\n",
       "    <tr style=\"text-align: right;\">\n",
       "      <th></th>\n",
       "      <th>mpg</th>\n",
       "      <th>cyl</th>\n",
       "      <th>dis</th>\n",
       "      <th>hp</th>\n",
       "      <th>weight</th>\n",
       "      <th>accel</th>\n",
       "      <th>year</th>\n",
       "      <th>origin</th>\n",
       "    </tr>\n",
       "  </thead>\n",
       "  <tbody>\n",
       "    <tr>\n",
       "      <th>count</th>\n",
       "      <td>392.000000</td>\n",
       "      <td>392.000000</td>\n",
       "      <td>392.000000</td>\n",
       "      <td>392.000000</td>\n",
       "      <td>392.000000</td>\n",
       "      <td>392.000000</td>\n",
       "      <td>392.000000</td>\n",
       "      <td>392.000000</td>\n",
       "    </tr>\n",
       "    <tr>\n",
       "      <th>mean</th>\n",
       "      <td>23.445918</td>\n",
       "      <td>5.471939</td>\n",
       "      <td>194.411990</td>\n",
       "      <td>104.469388</td>\n",
       "      <td>2977.584184</td>\n",
       "      <td>15.541327</td>\n",
       "      <td>75.979592</td>\n",
       "      <td>1.576531</td>\n",
       "    </tr>\n",
       "    <tr>\n",
       "      <th>std</th>\n",
       "      <td>7.805007</td>\n",
       "      <td>1.705783</td>\n",
       "      <td>104.644004</td>\n",
       "      <td>38.491160</td>\n",
       "      <td>849.402560</td>\n",
       "      <td>2.758864</td>\n",
       "      <td>3.683737</td>\n",
       "      <td>0.805518</td>\n",
       "    </tr>\n",
       "    <tr>\n",
       "      <th>min</th>\n",
       "      <td>9.000000</td>\n",
       "      <td>3.000000</td>\n",
       "      <td>68.000000</td>\n",
       "      <td>46.000000</td>\n",
       "      <td>1613.000000</td>\n",
       "      <td>8.000000</td>\n",
       "      <td>70.000000</td>\n",
       "      <td>1.000000</td>\n",
       "    </tr>\n",
       "    <tr>\n",
       "      <th>25%</th>\n",
       "      <td>17.000000</td>\n",
       "      <td>4.000000</td>\n",
       "      <td>105.000000</td>\n",
       "      <td>75.000000</td>\n",
       "      <td>2225.250000</td>\n",
       "      <td>13.775000</td>\n",
       "      <td>73.000000</td>\n",
       "      <td>1.000000</td>\n",
       "    </tr>\n",
       "    <tr>\n",
       "      <th>50%</th>\n",
       "      <td>22.750000</td>\n",
       "      <td>4.000000</td>\n",
       "      <td>151.000000</td>\n",
       "      <td>93.500000</td>\n",
       "      <td>2803.500000</td>\n",
       "      <td>15.500000</td>\n",
       "      <td>76.000000</td>\n",
       "      <td>1.000000</td>\n",
       "    </tr>\n",
       "    <tr>\n",
       "      <th>75%</th>\n",
       "      <td>29.000000</td>\n",
       "      <td>8.000000</td>\n",
       "      <td>275.750000</td>\n",
       "      <td>126.000000</td>\n",
       "      <td>3614.750000</td>\n",
       "      <td>17.025000</td>\n",
       "      <td>79.000000</td>\n",
       "      <td>2.000000</td>\n",
       "    </tr>\n",
       "    <tr>\n",
       "      <th>max</th>\n",
       "      <td>46.600000</td>\n",
       "      <td>8.000000</td>\n",
       "      <td>455.000000</td>\n",
       "      <td>230.000000</td>\n",
       "      <td>5140.000000</td>\n",
       "      <td>24.800000</td>\n",
       "      <td>82.000000</td>\n",
       "      <td>3.000000</td>\n",
       "    </tr>\n",
       "  </tbody>\n",
       "</table>\n",
       "</div>"
      ],
      "text/plain": [
       "              mpg         cyl         dis          hp       weight  \\\n",
       "count  392.000000  392.000000  392.000000  392.000000   392.000000   \n",
       "mean    23.445918    5.471939  194.411990  104.469388  2977.584184   \n",
       "std      7.805007    1.705783  104.644004   38.491160   849.402560   \n",
       "min      9.000000    3.000000   68.000000   46.000000  1613.000000   \n",
       "25%     17.000000    4.000000  105.000000   75.000000  2225.250000   \n",
       "50%     22.750000    4.000000  151.000000   93.500000  2803.500000   \n",
       "75%     29.000000    8.000000  275.750000  126.000000  3614.750000   \n",
       "max     46.600000    8.000000  455.000000  230.000000  5140.000000   \n",
       "\n",
       "            accel        year      origin  \n",
       "count  392.000000  392.000000  392.000000  \n",
       "mean    15.541327   75.979592    1.576531  \n",
       "std      2.758864    3.683737    0.805518  \n",
       "min      8.000000   70.000000    1.000000  \n",
       "25%     13.775000   73.000000    1.000000  \n",
       "50%     15.500000   76.000000    1.000000  \n",
       "75%     17.025000   79.000000    2.000000  \n",
       "max     24.800000   82.000000    3.000000  "
      ]
     },
     "execution_count": 8,
     "metadata": {},
     "output_type": "execute_result"
    }
   ],
   "source": [
    "raw_dataset.describe()"
   ]
  },
  {
   "cell_type": "code",
   "execution_count": 11,
   "id": "fa363dcf-591c-4042-b8a3-e0463d40a7cb",
   "metadata": {},
   "outputs": [
    {
     "data": {
      "text/plain": [
       "mpg       0\n",
       "cyl       0\n",
       "dis       0\n",
       "hp        0\n",
       "weight    0\n",
       "accel     0\n",
       "year      0\n",
       "origin    0\n",
       "dtype: int64"
      ]
     },
     "execution_count": 11,
     "metadata": {},
     "output_type": "execute_result"
    }
   ],
   "source": [
    "raw_dataset.isna().sum(axis=0)"
   ]
  },
  {
   "cell_type": "markdown",
   "id": "ddc53ccc-1fdc-4553-a679-98c456b2fa7a",
   "metadata": {},
   "source": [
    "--------------"
   ]
  },
  {
   "cell_type": "markdown",
   "id": "9b6b432d-cbef-4a12-9503-b9743e0c2f4e",
   "metadata": {},
   "source": [
    "## Do some data transformations & split into Train and Test Datasets"
   ]
  },
  {
   "cell_type": "code",
   "execution_count": 25,
   "id": "1147f180-3444-4e0b-9f5a-b813e72dcd1b",
   "metadata": {},
   "outputs": [],
   "source": [
    "raw_dataset.rename(columns = {\n",
    "    'mpg':'MPG',\n",
    "    'cyl':'Cylinders',\n",
    "    'dis':'Displacement',\n",
    "    'hp': 'Horsepower',\n",
    "    'weight': 'Weight',\n",
    "    'accel': 'Acceleration',\n",
    "    'year': 'Model Year',\n",
    "    'origin': 'Origin'}, inplace = True)\n",
    "\n",
    "# Get data in shape\n",
    "dataset = raw_dataset.copy()\n",
    "dataset.tail()\n",
    "dataset = dataset.dropna()\n",
    "dataset['Origin'] = dataset['Origin'].map({1: 'USA', 2: 'Europe', 3: 'Japan'})\n",
    "dataset = pd.get_dummies(dataset, columns=['Origin'], prefix='', prefix_sep='')\n",
    "train_dataset = dataset.sample(frac=0.8, random_state=0)\n",
    "test_dataset = dataset.drop(train_dataset.index)\n"
   ]
  },
  {
   "cell_type": "code",
   "execution_count": null,
   "id": "189cfab0-926a-47be-b737-a1ffe43846da",
   "metadata": {},
   "outputs": [],
   "source": []
  },
  {
   "cell_type": "markdown",
   "id": "f0f54dd2-73cc-4e2f-abd4-10e6f4eb9d29",
   "metadata": {},
   "source": [
    "## Explore Train and Test Datasets using Facets\n",
    "\n",
    "Facets is an open-source visualization tool released by Google under the PAIR(People + AI Research) initiative. This tool helps us to understand and analyze the Machine Learning datasets. Facets consist of two visualizations, which help drill down the data and provide great insights without much work at the user’s end.\n"
   ]
  },
  {
   "cell_type": "markdown",
   "id": "4ca09480-699b-4da0-b058-5af6fc62e872",
   "metadata": {},
   "source": [
    "### Facets Dive\n",
    "\n",
    "This feature helps the user dive deep into the individual feature/observation of the data to get more information. It helps in interactively exploring large numbers of data points at once.\n",
    "\n",
    "Facets Dive provides an easy-to-customize, intuitive interface for exploring the relationship between the data points across the different features. With Facets Dive, you control each data point's position, color, and visual representation based on its feature values. If the data points have images associated with them, the images can be used as visual representations.\n",
    "\n",
    "To use the Dive visualization, the data has to be transformed into JSON format."
   ]
  },
  {
   "cell_type": "code",
   "execution_count": 35,
   "id": "bf965161-c1f3-4644-bf42-fb6d6e178c97",
   "metadata": {},
   "outputs": [
    {
     "data": {
      "text/html": [
       "\n",
       "        <script src=\"https://cdnjs.cloudflare.com/ajax/libs/webcomponentsjs/1.3.3/webcomponents-lite.js\"></script>\n",
       "        <link rel=\"import\" href=\"https://raw.githubusercontent.com/PAIR-code/facets/1.0.0/facets-dist/facets-jupyter.html\">\n",
       "        <facets-dive id=\"elem\" height=\"600\"></facets-dive>\n",
       "        <script>\n",
       "          var data = [{\"MPG\":18.0,\"Cylinders\":8,\"Displacement\":307.0,\"Horsepower\":130.0,\"Weight\":3504.0,\"Acceleration\":12.0,\"Model Year\":70,\"Europe\":0,\"Japan\":0,\"USA\":1},{\"MPG\":15.0,\"Cylinders\":8,\"Displacement\":350.0,\"Horsepower\":165.0,\"Weight\":3693.0,\"Acceleration\":11.5,\"Model Year\":70,\"Europe\":0,\"Japan\":0,\"USA\":1},{\"MPG\":18.0,\"Cylinders\":8,\"Displacement\":318.0,\"Horsepower\":150.0,\"Weight\":3436.0,\"Acceleration\":11.0,\"Model Year\":70,\"Europe\":0,\"Japan\":0,\"USA\":1},{\"MPG\":16.0,\"Cylinders\":8,\"Displacement\":304.0,\"Horsepower\":150.0,\"Weight\":3433.0,\"Acceleration\":12.0,\"Model Year\":70,\"Europe\":0,\"Japan\":0,\"USA\":1},{\"MPG\":17.0,\"Cylinders\":8,\"Displacement\":302.0,\"Horsepower\":140.0,\"Weight\":3449.0,\"Acceleration\":10.5,\"Model Year\":70,\"Europe\":0,\"Japan\":0,\"USA\":1},{\"MPG\":15.0,\"Cylinders\":8,\"Displacement\":429.0,\"Horsepower\":198.0,\"Weight\":4341.0,\"Acceleration\":10.0,\"Model Year\":70,\"Europe\":0,\"Japan\":0,\"USA\":1},{\"MPG\":14.0,\"Cylinders\":8,\"Displacement\":454.0,\"Horsepower\":220.0,\"Weight\":4354.0,\"Acceleration\":9.0,\"Model Year\":70,\"Europe\":0,\"Japan\":0,\"USA\":1},{\"MPG\":14.0,\"Cylinders\":8,\"Displacement\":440.0,\"Horsepower\":215.0,\"Weight\":4312.0,\"Acceleration\":8.5,\"Model Year\":70,\"Europe\":0,\"Japan\":0,\"USA\":1},{\"MPG\":14.0,\"Cylinders\":8,\"Displacement\":455.0,\"Horsepower\":225.0,\"Weight\":4425.0,\"Acceleration\":10.0,\"Model Year\":70,\"Europe\":0,\"Japan\":0,\"USA\":1},{\"MPG\":15.0,\"Cylinders\":8,\"Displacement\":390.0,\"Horsepower\":190.0,\"Weight\":3850.0,\"Acceleration\":8.5,\"Model Year\":70,\"Europe\":0,\"Japan\":0,\"USA\":1},{\"MPG\":15.0,\"Cylinders\":8,\"Displacement\":383.0,\"Horsepower\":170.0,\"Weight\":3563.0,\"Acceleration\":10.0,\"Model Year\":70,\"Europe\":0,\"Japan\":0,\"USA\":1},{\"MPG\":14.0,\"Cylinders\":8,\"Displacement\":340.0,\"Horsepower\":160.0,\"Weight\":3609.0,\"Acceleration\":8.0,\"Model Year\":70,\"Europe\":0,\"Japan\":0,\"USA\":1},{\"MPG\":15.0,\"Cylinders\":8,\"Displacement\":400.0,\"Horsepower\":150.0,\"Weight\":3761.0,\"Acceleration\":9.5,\"Model Year\":70,\"Europe\":0,\"Japan\":0,\"USA\":1},{\"MPG\":14.0,\"Cylinders\":8,\"Displacement\":455.0,\"Horsepower\":225.0,\"Weight\":3086.0,\"Acceleration\":10.0,\"Model Year\":70,\"Europe\":0,\"Japan\":0,\"USA\":1},{\"MPG\":24.0,\"Cylinders\":4,\"Displacement\":113.0,\"Horsepower\":95.0,\"Weight\":2372.0,\"Acceleration\":15.0,\"Model Year\":70,\"Europe\":0,\"Japan\":1,\"USA\":0},{\"MPG\":22.0,\"Cylinders\":6,\"Displacement\":198.0,\"Horsepower\":95.0,\"Weight\":2833.0,\"Acceleration\":15.5,\"Model Year\":70,\"Europe\":0,\"Japan\":0,\"USA\":1},{\"MPG\":18.0,\"Cylinders\":6,\"Displacement\":199.0,\"Horsepower\":97.0,\"Weight\":2774.0,\"Acceleration\":15.5,\"Model Year\":70,\"Europe\":0,\"Japan\":0,\"USA\":1},{\"MPG\":21.0,\"Cylinders\":6,\"Displacement\":200.0,\"Horsepower\":85.0,\"Weight\":2587.0,\"Acceleration\":16.0,\"Model Year\":70,\"Europe\":0,\"Japan\":0,\"USA\":1},{\"MPG\":27.0,\"Cylinders\":4,\"Displacement\":97.0,\"Horsepower\":88.0,\"Weight\":2130.0,\"Acceleration\":14.5,\"Model Year\":70,\"Europe\":0,\"Japan\":1,\"USA\":0},{\"MPG\":26.0,\"Cylinders\":4,\"Displacement\":97.0,\"Horsepower\":46.0,\"Weight\":1835.0,\"Acceleration\":20.5,\"Model Year\":70,\"Europe\":1,\"Japan\":0,\"USA\":0},{\"MPG\":25.0,\"Cylinders\":4,\"Displacement\":110.0,\"Horsepower\":87.0,\"Weight\":2672.0,\"Acceleration\":17.5,\"Model Year\":70,\"Europe\":1,\"Japan\":0,\"USA\":0},{\"MPG\":24.0,\"Cylinders\":4,\"Displacement\":107.0,\"Horsepower\":90.0,\"Weight\":2430.0,\"Acceleration\":14.5,\"Model Year\":70,\"Europe\":1,\"Japan\":0,\"USA\":0},{\"MPG\":25.0,\"Cylinders\":4,\"Displacement\":104.0,\"Horsepower\":95.0,\"Weight\":2375.0,\"Acceleration\":17.5,\"Model Year\":70,\"Europe\":1,\"Japan\":0,\"USA\":0},{\"MPG\":26.0,\"Cylinders\":4,\"Displacement\":121.0,\"Horsepower\":113.0,\"Weight\":2234.0,\"Acceleration\":12.5,\"Model Year\":70,\"Europe\":1,\"Japan\":0,\"USA\":0},{\"MPG\":21.0,\"Cylinders\":6,\"Displacement\":199.0,\"Horsepower\":90.0,\"Weight\":2648.0,\"Acceleration\":15.0,\"Model Year\":70,\"Europe\":0,\"Japan\":0,\"USA\":1},{\"MPG\":10.0,\"Cylinders\":8,\"Displacement\":360.0,\"Horsepower\":215.0,\"Weight\":4615.0,\"Acceleration\":14.0,\"Model Year\":70,\"Europe\":0,\"Japan\":0,\"USA\":1},{\"MPG\":10.0,\"Cylinders\":8,\"Displacement\":307.0,\"Horsepower\":200.0,\"Weight\":4376.0,\"Acceleration\":15.0,\"Model Year\":70,\"Europe\":0,\"Japan\":0,\"USA\":1},{\"MPG\":11.0,\"Cylinders\":8,\"Displacement\":318.0,\"Horsepower\":210.0,\"Weight\":4382.0,\"Acceleration\":13.5,\"Model Year\":70,\"Europe\":0,\"Japan\":0,\"USA\":1},{\"MPG\":9.0,\"Cylinders\":8,\"Displacement\":304.0,\"Horsepower\":193.0,\"Weight\":4732.0,\"Acceleration\":18.5,\"Model Year\":70,\"Europe\":0,\"Japan\":0,\"USA\":1},{\"MPG\":27.0,\"Cylinders\":4,\"Displacement\":97.0,\"Horsepower\":88.0,\"Weight\":2130.0,\"Acceleration\":14.5,\"Model Year\":71,\"Europe\":0,\"Japan\":1,\"USA\":0},{\"MPG\":28.0,\"Cylinders\":4,\"Displacement\":140.0,\"Horsepower\":90.0,\"Weight\":2264.0,\"Acceleration\":15.5,\"Model Year\":71,\"Europe\":0,\"Japan\":0,\"USA\":1},{\"MPG\":25.0,\"Cylinders\":4,\"Displacement\":113.0,\"Horsepower\":95.0,\"Weight\":2228.0,\"Acceleration\":14.0,\"Model Year\":71,\"Europe\":0,\"Japan\":1,\"USA\":0},{\"MPG\":19.0,\"Cylinders\":6,\"Displacement\":232.0,\"Horsepower\":100.0,\"Weight\":2634.0,\"Acceleration\":13.0,\"Model Year\":71,\"Europe\":0,\"Japan\":0,\"USA\":1},{\"MPG\":16.0,\"Cylinders\":6,\"Displacement\":225.0,\"Horsepower\":105.0,\"Weight\":3439.0,\"Acceleration\":15.5,\"Model Year\":71,\"Europe\":0,\"Japan\":0,\"USA\":1},{\"MPG\":17.0,\"Cylinders\":6,\"Displacement\":250.0,\"Horsepower\":100.0,\"Weight\":3329.0,\"Acceleration\":15.5,\"Model Year\":71,\"Europe\":0,\"Japan\":0,\"USA\":1},{\"MPG\":19.0,\"Cylinders\":6,\"Displacement\":250.0,\"Horsepower\":88.0,\"Weight\":3302.0,\"Acceleration\":15.5,\"Model Year\":71,\"Europe\":0,\"Japan\":0,\"USA\":1},{\"MPG\":18.0,\"Cylinders\":6,\"Displacement\":232.0,\"Horsepower\":100.0,\"Weight\":3288.0,\"Acceleration\":15.5,\"Model Year\":71,\"Europe\":0,\"Japan\":0,\"USA\":1},{\"MPG\":14.0,\"Cylinders\":8,\"Displacement\":350.0,\"Horsepower\":165.0,\"Weight\":4209.0,\"Acceleration\":12.0,\"Model Year\":71,\"Europe\":0,\"Japan\":0,\"USA\":1},{\"MPG\":14.0,\"Cylinders\":8,\"Displacement\":400.0,\"Horsepower\":175.0,\"Weight\":4464.0,\"Acceleration\":11.5,\"Model Year\":71,\"Europe\":0,\"Japan\":0,\"USA\":1},{\"MPG\":14.0,\"Cylinders\":8,\"Displacement\":351.0,\"Horsepower\":153.0,\"Weight\":4154.0,\"Acceleration\":13.5,\"Model Year\":71,\"Europe\":0,\"Japan\":0,\"USA\":1},{\"MPG\":14.0,\"Cylinders\":8,\"Displacement\":318.0,\"Horsepower\":150.0,\"Weight\":4096.0,\"Acceleration\":13.0,\"Model Year\":71,\"Europe\":0,\"Japan\":0,\"USA\":1},{\"MPG\":12.0,\"Cylinders\":8,\"Displacement\":383.0,\"Horsepower\":180.0,\"Weight\":4955.0,\"Acceleration\":11.5,\"Model Year\":71,\"Europe\":0,\"Japan\":0,\"USA\":1},{\"MPG\":13.0,\"Cylinders\":8,\"Displacement\":400.0,\"Horsepower\":170.0,\"Weight\":4746.0,\"Acceleration\":12.0,\"Model Year\":71,\"Europe\":0,\"Japan\":0,\"USA\":1},{\"MPG\":13.0,\"Cylinders\":8,\"Displacement\":400.0,\"Horsepower\":175.0,\"Weight\":5140.0,\"Acceleration\":12.0,\"Model Year\":71,\"Europe\":0,\"Japan\":0,\"USA\":1},{\"MPG\":18.0,\"Cylinders\":6,\"Displacement\":258.0,\"Horsepower\":110.0,\"Weight\":2962.0,\"Acceleration\":13.5,\"Model Year\":71,\"Europe\":0,\"Japan\":0,\"USA\":1},{\"MPG\":22.0,\"Cylinders\":4,\"Displacement\":140.0,\"Horsepower\":72.0,\"Weight\":2408.0,\"Acceleration\":19.0,\"Model Year\":71,\"Europe\":0,\"Japan\":0,\"USA\":1},{\"MPG\":19.0,\"Cylinders\":6,\"Displacement\":250.0,\"Horsepower\":100.0,\"Weight\":3282.0,\"Acceleration\":15.0,\"Model Year\":71,\"Europe\":0,\"Japan\":0,\"USA\":1},{\"MPG\":18.0,\"Cylinders\":6,\"Displacement\":250.0,\"Horsepower\":88.0,\"Weight\":3139.0,\"Acceleration\":14.5,\"Model Year\":71,\"Europe\":0,\"Japan\":0,\"USA\":1},{\"MPG\":23.0,\"Cylinders\":4,\"Displacement\":122.0,\"Horsepower\":86.0,\"Weight\":2220.0,\"Acceleration\":14.0,\"Model Year\":71,\"Europe\":0,\"Japan\":0,\"USA\":1},{\"MPG\":28.0,\"Cylinders\":4,\"Displacement\":116.0,\"Horsepower\":90.0,\"Weight\":2123.0,\"Acceleration\":14.0,\"Model Year\":71,\"Europe\":1,\"Japan\":0,\"USA\":0},{\"MPG\":30.0,\"Cylinders\":4,\"Displacement\":79.0,\"Horsepower\":70.0,\"Weight\":2074.0,\"Acceleration\":19.5,\"Model Year\":71,\"Europe\":1,\"Japan\":0,\"USA\":0},{\"MPG\":30.0,\"Cylinders\":4,\"Displacement\":88.0,\"Horsepower\":76.0,\"Weight\":2065.0,\"Acceleration\":14.5,\"Model Year\":71,\"Europe\":1,\"Japan\":0,\"USA\":0},{\"MPG\":31.0,\"Cylinders\":4,\"Displacement\":71.0,\"Horsepower\":65.0,\"Weight\":1773.0,\"Acceleration\":19.0,\"Model Year\":71,\"Europe\":0,\"Japan\":1,\"USA\":0},{\"MPG\":35.0,\"Cylinders\":4,\"Displacement\":72.0,\"Horsepower\":69.0,\"Weight\":1613.0,\"Acceleration\":18.0,\"Model Year\":71,\"Europe\":0,\"Japan\":1,\"USA\":0},{\"MPG\":27.0,\"Cylinders\":4,\"Displacement\":97.0,\"Horsepower\":60.0,\"Weight\":1834.0,\"Acceleration\":19.0,\"Model Year\":71,\"Europe\":1,\"Japan\":0,\"USA\":0},{\"MPG\":26.0,\"Cylinders\":4,\"Displacement\":91.0,\"Horsepower\":70.0,\"Weight\":1955.0,\"Acceleration\":20.5,\"Model Year\":71,\"Europe\":0,\"Japan\":0,\"USA\":1},{\"MPG\":24.0,\"Cylinders\":4,\"Displacement\":113.0,\"Horsepower\":95.0,\"Weight\":2278.0,\"Acceleration\":15.5,\"Model Year\":72,\"Europe\":0,\"Japan\":1,\"USA\":0},{\"MPG\":25.0,\"Cylinders\":4,\"Displacement\":97.5,\"Horsepower\":80.0,\"Weight\":2126.0,\"Acceleration\":17.0,\"Model Year\":72,\"Europe\":0,\"Japan\":0,\"USA\":1},{\"MPG\":23.0,\"Cylinders\":4,\"Displacement\":97.0,\"Horsepower\":54.0,\"Weight\":2254.0,\"Acceleration\":23.5,\"Model Year\":72,\"Europe\":1,\"Japan\":0,\"USA\":0},{\"MPG\":20.0,\"Cylinders\":4,\"Displacement\":140.0,\"Horsepower\":90.0,\"Weight\":2408.0,\"Acceleration\":19.5,\"Model Year\":72,\"Europe\":0,\"Japan\":0,\"USA\":1},{\"MPG\":21.0,\"Cylinders\":4,\"Displacement\":122.0,\"Horsepower\":86.0,\"Weight\":2226.0,\"Acceleration\":16.5,\"Model Year\":72,\"Europe\":0,\"Japan\":0,\"USA\":1},{\"MPG\":13.0,\"Cylinders\":8,\"Displacement\":350.0,\"Horsepower\":165.0,\"Weight\":4274.0,\"Acceleration\":12.0,\"Model Year\":72,\"Europe\":0,\"Japan\":0,\"USA\":1},{\"MPG\":14.0,\"Cylinders\":8,\"Displacement\":400.0,\"Horsepower\":175.0,\"Weight\":4385.0,\"Acceleration\":12.0,\"Model Year\":72,\"Europe\":0,\"Japan\":0,\"USA\":1},{\"MPG\":15.0,\"Cylinders\":8,\"Displacement\":318.0,\"Horsepower\":150.0,\"Weight\":4135.0,\"Acceleration\":13.5,\"Model Year\":72,\"Europe\":0,\"Japan\":0,\"USA\":1},{\"MPG\":14.0,\"Cylinders\":8,\"Displacement\":351.0,\"Horsepower\":153.0,\"Weight\":4129.0,\"Acceleration\":13.0,\"Model Year\":72,\"Europe\":0,\"Japan\":0,\"USA\":1},{\"MPG\":17.0,\"Cylinders\":8,\"Displacement\":304.0,\"Horsepower\":150.0,\"Weight\":3672.0,\"Acceleration\":11.5,\"Model Year\":72,\"Europe\":0,\"Japan\":0,\"USA\":1},{\"MPG\":11.0,\"Cylinders\":8,\"Displacement\":429.0,\"Horsepower\":208.0,\"Weight\":4633.0,\"Acceleration\":11.0,\"Model Year\":72,\"Europe\":0,\"Japan\":0,\"USA\":1},{\"MPG\":13.0,\"Cylinders\":8,\"Displacement\":350.0,\"Horsepower\":155.0,\"Weight\":4502.0,\"Acceleration\":13.5,\"Model Year\":72,\"Europe\":0,\"Japan\":0,\"USA\":1},{\"MPG\":12.0,\"Cylinders\":8,\"Displacement\":350.0,\"Horsepower\":160.0,\"Weight\":4456.0,\"Acceleration\":13.5,\"Model Year\":72,\"Europe\":0,\"Japan\":0,\"USA\":1},{\"MPG\":13.0,\"Cylinders\":8,\"Displacement\":400.0,\"Horsepower\":190.0,\"Weight\":4422.0,\"Acceleration\":12.5,\"Model Year\":72,\"Europe\":0,\"Japan\":0,\"USA\":1},{\"MPG\":19.0,\"Cylinders\":3,\"Displacement\":70.0,\"Horsepower\":97.0,\"Weight\":2330.0,\"Acceleration\":13.5,\"Model Year\":72,\"Europe\":0,\"Japan\":1,\"USA\":0},{\"MPG\":15.0,\"Cylinders\":8,\"Displacement\":304.0,\"Horsepower\":150.0,\"Weight\":3892.0,\"Acceleration\":12.5,\"Model Year\":72,\"Europe\":0,\"Japan\":0,\"USA\":1},{\"MPG\":13.0,\"Cylinders\":8,\"Displacement\":307.0,\"Horsepower\":130.0,\"Weight\":4098.0,\"Acceleration\":14.0,\"Model Year\":72,\"Europe\":0,\"Japan\":0,\"USA\":1},{\"MPG\":13.0,\"Cylinders\":8,\"Displacement\":302.0,\"Horsepower\":140.0,\"Weight\":4294.0,\"Acceleration\":16.0,\"Model Year\":72,\"Europe\":0,\"Japan\":0,\"USA\":1},{\"MPG\":14.0,\"Cylinders\":8,\"Displacement\":318.0,\"Horsepower\":150.0,\"Weight\":4077.0,\"Acceleration\":14.0,\"Model Year\":72,\"Europe\":0,\"Japan\":0,\"USA\":1},{\"MPG\":18.0,\"Cylinders\":4,\"Displacement\":121.0,\"Horsepower\":112.0,\"Weight\":2933.0,\"Acceleration\":14.5,\"Model Year\":72,\"Europe\":1,\"Japan\":0,\"USA\":0},{\"MPG\":22.0,\"Cylinders\":4,\"Displacement\":121.0,\"Horsepower\":76.0,\"Weight\":2511.0,\"Acceleration\":18.0,\"Model Year\":72,\"Europe\":1,\"Japan\":0,\"USA\":0},{\"MPG\":21.0,\"Cylinders\":4,\"Displacement\":120.0,\"Horsepower\":87.0,\"Weight\":2979.0,\"Acceleration\":19.5,\"Model Year\":72,\"Europe\":1,\"Japan\":0,\"USA\":0},{\"MPG\":26.0,\"Cylinders\":4,\"Displacement\":96.0,\"Horsepower\":69.0,\"Weight\":2189.0,\"Acceleration\":18.0,\"Model Year\":72,\"Europe\":1,\"Japan\":0,\"USA\":0},{\"MPG\":22.0,\"Cylinders\":4,\"Displacement\":122.0,\"Horsepower\":86.0,\"Weight\":2395.0,\"Acceleration\":16.0,\"Model Year\":72,\"Europe\":0,\"Japan\":0,\"USA\":1},{\"MPG\":28.0,\"Cylinders\":4,\"Displacement\":97.0,\"Horsepower\":92.0,\"Weight\":2288.0,\"Acceleration\":17.0,\"Model Year\":72,\"Europe\":0,\"Japan\":1,\"USA\":0},{\"MPG\":23.0,\"Cylinders\":4,\"Displacement\":120.0,\"Horsepower\":97.0,\"Weight\":2506.0,\"Acceleration\":14.5,\"Model Year\":72,\"Europe\":0,\"Japan\":1,\"USA\":0},{\"MPG\":28.0,\"Cylinders\":4,\"Displacement\":98.0,\"Horsepower\":80.0,\"Weight\":2164.0,\"Acceleration\":15.0,\"Model Year\":72,\"Europe\":0,\"Japan\":0,\"USA\":1},{\"MPG\":27.0,\"Cylinders\":4,\"Displacement\":97.0,\"Horsepower\":88.0,\"Weight\":2100.0,\"Acceleration\":16.5,\"Model Year\":72,\"Europe\":0,\"Japan\":1,\"USA\":0},{\"MPG\":13.0,\"Cylinders\":8,\"Displacement\":350.0,\"Horsepower\":175.0,\"Weight\":4100.0,\"Acceleration\":13.0,\"Model Year\":73,\"Europe\":0,\"Japan\":0,\"USA\":1},{\"MPG\":14.0,\"Cylinders\":8,\"Displacement\":304.0,\"Horsepower\":150.0,\"Weight\":3672.0,\"Acceleration\":11.5,\"Model Year\":73,\"Europe\":0,\"Japan\":0,\"USA\":1},{\"MPG\":13.0,\"Cylinders\":8,\"Displacement\":350.0,\"Horsepower\":145.0,\"Weight\":3988.0,\"Acceleration\":13.0,\"Model Year\":73,\"Europe\":0,\"Japan\":0,\"USA\":1},{\"MPG\":14.0,\"Cylinders\":8,\"Displacement\":302.0,\"Horsepower\":137.0,\"Weight\":4042.0,\"Acceleration\":14.5,\"Model Year\":73,\"Europe\":0,\"Japan\":0,\"USA\":1},{\"MPG\":15.0,\"Cylinders\":8,\"Displacement\":318.0,\"Horsepower\":150.0,\"Weight\":3777.0,\"Acceleration\":12.5,\"Model Year\":73,\"Europe\":0,\"Japan\":0,\"USA\":1},{\"MPG\":12.0,\"Cylinders\":8,\"Displacement\":429.0,\"Horsepower\":198.0,\"Weight\":4952.0,\"Acceleration\":11.5,\"Model Year\":73,\"Europe\":0,\"Japan\":0,\"USA\":1},{\"MPG\":13.0,\"Cylinders\":8,\"Displacement\":400.0,\"Horsepower\":150.0,\"Weight\":4464.0,\"Acceleration\":12.0,\"Model Year\":73,\"Europe\":0,\"Japan\":0,\"USA\":1},{\"MPG\":13.0,\"Cylinders\":8,\"Displacement\":351.0,\"Horsepower\":158.0,\"Weight\":4363.0,\"Acceleration\":13.0,\"Model Year\":73,\"Europe\":0,\"Japan\":0,\"USA\":1},{\"MPG\":14.0,\"Cylinders\":8,\"Displacement\":318.0,\"Horsepower\":150.0,\"Weight\":4237.0,\"Acceleration\":14.5,\"Model Year\":73,\"Europe\":0,\"Japan\":0,\"USA\":1},{\"MPG\":13.0,\"Cylinders\":8,\"Displacement\":440.0,\"Horsepower\":215.0,\"Weight\":4735.0,\"Acceleration\":11.0,\"Model Year\":73,\"Europe\":0,\"Japan\":0,\"USA\":1},{\"MPG\":12.0,\"Cylinders\":8,\"Displacement\":455.0,\"Horsepower\":225.0,\"Weight\":4951.0,\"Acceleration\":11.0,\"Model Year\":73,\"Europe\":0,\"Japan\":0,\"USA\":1},{\"MPG\":13.0,\"Cylinders\":8,\"Displacement\":360.0,\"Horsepower\":175.0,\"Weight\":3821.0,\"Acceleration\":11.0,\"Model Year\":73,\"Europe\":0,\"Japan\":0,\"USA\":1},{\"MPG\":18.0,\"Cylinders\":6,\"Displacement\":225.0,\"Horsepower\":105.0,\"Weight\":3121.0,\"Acceleration\":16.5,\"Model Year\":73,\"Europe\":0,\"Japan\":0,\"USA\":1},{\"MPG\":16.0,\"Cylinders\":6,\"Displacement\":250.0,\"Horsepower\":100.0,\"Weight\":3278.0,\"Acceleration\":18.0,\"Model Year\":73,\"Europe\":0,\"Japan\":0,\"USA\":1},{\"MPG\":18.0,\"Cylinders\":6,\"Displacement\":232.0,\"Horsepower\":100.0,\"Weight\":2945.0,\"Acceleration\":16.0,\"Model Year\":73,\"Europe\":0,\"Japan\":0,\"USA\":1},{\"MPG\":18.0,\"Cylinders\":6,\"Displacement\":250.0,\"Horsepower\":88.0,\"Weight\":3021.0,\"Acceleration\":16.5,\"Model Year\":73,\"Europe\":0,\"Japan\":0,\"USA\":1},{\"MPG\":23.0,\"Cylinders\":6,\"Displacement\":198.0,\"Horsepower\":95.0,\"Weight\":2904.0,\"Acceleration\":16.0,\"Model Year\":73,\"Europe\":0,\"Japan\":0,\"USA\":1},{\"MPG\":26.0,\"Cylinders\":4,\"Displacement\":97.0,\"Horsepower\":46.0,\"Weight\":1950.0,\"Acceleration\":21.0,\"Model Year\":73,\"Europe\":1,\"Japan\":0,\"USA\":0},{\"MPG\":11.0,\"Cylinders\":8,\"Displacement\":400.0,\"Horsepower\":150.0,\"Weight\":4997.0,\"Acceleration\":14.0,\"Model Year\":73,\"Europe\":0,\"Japan\":0,\"USA\":1},{\"MPG\":12.0,\"Cylinders\":8,\"Displacement\":400.0,\"Horsepower\":167.0,\"Weight\":4906.0,\"Acceleration\":12.5,\"Model Year\":73,\"Europe\":0,\"Japan\":0,\"USA\":1},{\"MPG\":13.0,\"Cylinders\":8,\"Displacement\":360.0,\"Horsepower\":170.0,\"Weight\":4654.0,\"Acceleration\":13.0,\"Model Year\":73,\"Europe\":0,\"Japan\":0,\"USA\":1},{\"MPG\":12.0,\"Cylinders\":8,\"Displacement\":350.0,\"Horsepower\":180.0,\"Weight\":4499.0,\"Acceleration\":12.5,\"Model Year\":73,\"Europe\":0,\"Japan\":0,\"USA\":1},{\"MPG\":18.0,\"Cylinders\":6,\"Displacement\":232.0,\"Horsepower\":100.0,\"Weight\":2789.0,\"Acceleration\":15.0,\"Model Year\":73,\"Europe\":0,\"Japan\":0,\"USA\":1},{\"MPG\":20.0,\"Cylinders\":4,\"Displacement\":97.0,\"Horsepower\":88.0,\"Weight\":2279.0,\"Acceleration\":19.0,\"Model Year\":73,\"Europe\":0,\"Japan\":1,\"USA\":0},{\"MPG\":21.0,\"Cylinders\":4,\"Displacement\":140.0,\"Horsepower\":72.0,\"Weight\":2401.0,\"Acceleration\":19.5,\"Model Year\":73,\"Europe\":0,\"Japan\":0,\"USA\":1},{\"MPG\":22.0,\"Cylinders\":4,\"Displacement\":108.0,\"Horsepower\":94.0,\"Weight\":2379.0,\"Acceleration\":16.5,\"Model Year\":73,\"Europe\":0,\"Japan\":1,\"USA\":0},{\"MPG\":18.0,\"Cylinders\":3,\"Displacement\":70.0,\"Horsepower\":90.0,\"Weight\":2124.0,\"Acceleration\":13.5,\"Model Year\":73,\"Europe\":0,\"Japan\":1,\"USA\":0},{\"MPG\":19.0,\"Cylinders\":4,\"Displacement\":122.0,\"Horsepower\":85.0,\"Weight\":2310.0,\"Acceleration\":18.5,\"Model Year\":73,\"Europe\":0,\"Japan\":0,\"USA\":1},{\"MPG\":21.0,\"Cylinders\":6,\"Displacement\":155.0,\"Horsepower\":107.0,\"Weight\":2472.0,\"Acceleration\":14.0,\"Model Year\":73,\"Europe\":0,\"Japan\":0,\"USA\":1},{\"MPG\":26.0,\"Cylinders\":4,\"Displacement\":98.0,\"Horsepower\":90.0,\"Weight\":2265.0,\"Acceleration\":15.5,\"Model Year\":73,\"Europe\":1,\"Japan\":0,\"USA\":0},{\"MPG\":15.0,\"Cylinders\":8,\"Displacement\":350.0,\"Horsepower\":145.0,\"Weight\":4082.0,\"Acceleration\":13.0,\"Model Year\":73,\"Europe\":0,\"Japan\":0,\"USA\":1},{\"MPG\":16.0,\"Cylinders\":8,\"Displacement\":400.0,\"Horsepower\":230.0,\"Weight\":4278.0,\"Acceleration\":9.5,\"Model Year\":73,\"Europe\":0,\"Japan\":0,\"USA\":1},{\"MPG\":29.0,\"Cylinders\":4,\"Displacement\":68.0,\"Horsepower\":49.0,\"Weight\":1867.0,\"Acceleration\":19.5,\"Model Year\":73,\"Europe\":1,\"Japan\":0,\"USA\":0},{\"MPG\":24.0,\"Cylinders\":4,\"Displacement\":116.0,\"Horsepower\":75.0,\"Weight\":2158.0,\"Acceleration\":15.5,\"Model Year\":73,\"Europe\":1,\"Japan\":0,\"USA\":0},{\"MPG\":20.0,\"Cylinders\":4,\"Displacement\":114.0,\"Horsepower\":91.0,\"Weight\":2582.0,\"Acceleration\":14.0,\"Model Year\":73,\"Europe\":1,\"Japan\":0,\"USA\":0},{\"MPG\":19.0,\"Cylinders\":4,\"Displacement\":121.0,\"Horsepower\":112.0,\"Weight\":2868.0,\"Acceleration\":15.5,\"Model Year\":73,\"Europe\":1,\"Japan\":0,\"USA\":0},{\"MPG\":15.0,\"Cylinders\":8,\"Displacement\":318.0,\"Horsepower\":150.0,\"Weight\":3399.0,\"Acceleration\":11.0,\"Model Year\":73,\"Europe\":0,\"Japan\":0,\"USA\":1},{\"MPG\":24.0,\"Cylinders\":4,\"Displacement\":121.0,\"Horsepower\":110.0,\"Weight\":2660.0,\"Acceleration\":14.0,\"Model Year\":73,\"Europe\":1,\"Japan\":0,\"USA\":0},{\"MPG\":20.0,\"Cylinders\":6,\"Displacement\":156.0,\"Horsepower\":122.0,\"Weight\":2807.0,\"Acceleration\":13.5,\"Model Year\":73,\"Europe\":0,\"Japan\":1,\"USA\":0},{\"MPG\":11.0,\"Cylinders\":8,\"Displacement\":350.0,\"Horsepower\":180.0,\"Weight\":3664.0,\"Acceleration\":11.0,\"Model Year\":73,\"Europe\":0,\"Japan\":0,\"USA\":1},{\"MPG\":20.0,\"Cylinders\":6,\"Displacement\":198.0,\"Horsepower\":95.0,\"Weight\":3102.0,\"Acceleration\":16.5,\"Model Year\":74,\"Europe\":0,\"Japan\":0,\"USA\":1},{\"MPG\":19.0,\"Cylinders\":6,\"Displacement\":232.0,\"Horsepower\":100.0,\"Weight\":2901.0,\"Acceleration\":16.0,\"Model Year\":74,\"Europe\":0,\"Japan\":0,\"USA\":1},{\"MPG\":15.0,\"Cylinders\":6,\"Displacement\":250.0,\"Horsepower\":100.0,\"Weight\":3336.0,\"Acceleration\":17.0,\"Model Year\":74,\"Europe\":0,\"Japan\":0,\"USA\":1},{\"MPG\":31.0,\"Cylinders\":4,\"Displacement\":79.0,\"Horsepower\":67.0,\"Weight\":1950.0,\"Acceleration\":19.0,\"Model Year\":74,\"Europe\":0,\"Japan\":1,\"USA\":0},{\"MPG\":26.0,\"Cylinders\":4,\"Displacement\":122.0,\"Horsepower\":80.0,\"Weight\":2451.0,\"Acceleration\":16.5,\"Model Year\":74,\"Europe\":0,\"Japan\":0,\"USA\":1},{\"MPG\":32.0,\"Cylinders\":4,\"Displacement\":71.0,\"Horsepower\":65.0,\"Weight\":1836.0,\"Acceleration\":21.0,\"Model Year\":74,\"Europe\":0,\"Japan\":1,\"USA\":0},{\"MPG\":25.0,\"Cylinders\":4,\"Displacement\":140.0,\"Horsepower\":75.0,\"Weight\":2542.0,\"Acceleration\":17.0,\"Model Year\":74,\"Europe\":0,\"Japan\":0,\"USA\":1},{\"MPG\":16.0,\"Cylinders\":6,\"Displacement\":250.0,\"Horsepower\":100.0,\"Weight\":3781.0,\"Acceleration\":17.0,\"Model Year\":74,\"Europe\":0,\"Japan\":0,\"USA\":1},{\"MPG\":16.0,\"Cylinders\":6,\"Displacement\":258.0,\"Horsepower\":110.0,\"Weight\":3632.0,\"Acceleration\":18.0,\"Model Year\":74,\"Europe\":0,\"Japan\":0,\"USA\":1},{\"MPG\":18.0,\"Cylinders\":6,\"Displacement\":225.0,\"Horsepower\":105.0,\"Weight\":3613.0,\"Acceleration\":16.5,\"Model Year\":74,\"Europe\":0,\"Japan\":0,\"USA\":1},{\"MPG\":16.0,\"Cylinders\":8,\"Displacement\":302.0,\"Horsepower\":140.0,\"Weight\":4141.0,\"Acceleration\":14.0,\"Model Year\":74,\"Europe\":0,\"Japan\":0,\"USA\":1},{\"MPG\":13.0,\"Cylinders\":8,\"Displacement\":350.0,\"Horsepower\":150.0,\"Weight\":4699.0,\"Acceleration\":14.5,\"Model Year\":74,\"Europe\":0,\"Japan\":0,\"USA\":1},{\"MPG\":14.0,\"Cylinders\":8,\"Displacement\":318.0,\"Horsepower\":150.0,\"Weight\":4457.0,\"Acceleration\":13.5,\"Model Year\":74,\"Europe\":0,\"Japan\":0,\"USA\":1},{\"MPG\":14.0,\"Cylinders\":8,\"Displacement\":302.0,\"Horsepower\":140.0,\"Weight\":4638.0,\"Acceleration\":16.0,\"Model Year\":74,\"Europe\":0,\"Japan\":0,\"USA\":1},{\"MPG\":14.0,\"Cylinders\":8,\"Displacement\":304.0,\"Horsepower\":150.0,\"Weight\":4257.0,\"Acceleration\":15.5,\"Model Year\":74,\"Europe\":0,\"Japan\":0,\"USA\":1},{\"MPG\":29.0,\"Cylinders\":4,\"Displacement\":98.0,\"Horsepower\":83.0,\"Weight\":2219.0,\"Acceleration\":16.5,\"Model Year\":74,\"Europe\":1,\"Japan\":0,\"USA\":0},{\"MPG\":26.0,\"Cylinders\":4,\"Displacement\":79.0,\"Horsepower\":67.0,\"Weight\":1963.0,\"Acceleration\":15.5,\"Model Year\":74,\"Europe\":1,\"Japan\":0,\"USA\":0},{\"MPG\":26.0,\"Cylinders\":4,\"Displacement\":97.0,\"Horsepower\":78.0,\"Weight\":2300.0,\"Acceleration\":14.5,\"Model Year\":74,\"Europe\":1,\"Japan\":0,\"USA\":0},{\"MPG\":31.0,\"Cylinders\":4,\"Displacement\":76.0,\"Horsepower\":52.0,\"Weight\":1649.0,\"Acceleration\":16.5,\"Model Year\":74,\"Europe\":0,\"Japan\":1,\"USA\":0},{\"MPG\":32.0,\"Cylinders\":4,\"Displacement\":83.0,\"Horsepower\":61.0,\"Weight\":2003.0,\"Acceleration\":19.0,\"Model Year\":74,\"Europe\":0,\"Japan\":1,\"USA\":0},{\"MPG\":28.0,\"Cylinders\":4,\"Displacement\":90.0,\"Horsepower\":75.0,\"Weight\":2125.0,\"Acceleration\":14.5,\"Model Year\":74,\"Europe\":0,\"Japan\":0,\"USA\":1},{\"MPG\":24.0,\"Cylinders\":4,\"Displacement\":90.0,\"Horsepower\":75.0,\"Weight\":2108.0,\"Acceleration\":15.5,\"Model Year\":74,\"Europe\":1,\"Japan\":0,\"USA\":0},{\"MPG\":26.0,\"Cylinders\":4,\"Displacement\":116.0,\"Horsepower\":75.0,\"Weight\":2246.0,\"Acceleration\":14.0,\"Model Year\":74,\"Europe\":1,\"Japan\":0,\"USA\":0},{\"MPG\":24.0,\"Cylinders\":4,\"Displacement\":120.0,\"Horsepower\":97.0,\"Weight\":2489.0,\"Acceleration\":15.0,\"Model Year\":74,\"Europe\":0,\"Japan\":1,\"USA\":0},{\"MPG\":26.0,\"Cylinders\":4,\"Displacement\":108.0,\"Horsepower\":93.0,\"Weight\":2391.0,\"Acceleration\":15.5,\"Model Year\":74,\"Europe\":0,\"Japan\":1,\"USA\":0},{\"MPG\":31.0,\"Cylinders\":4,\"Displacement\":79.0,\"Horsepower\":67.0,\"Weight\":2000.0,\"Acceleration\":16.0,\"Model Year\":74,\"Europe\":1,\"Japan\":0,\"USA\":0},{\"MPG\":19.0,\"Cylinders\":6,\"Displacement\":225.0,\"Horsepower\":95.0,\"Weight\":3264.0,\"Acceleration\":16.0,\"Model Year\":75,\"Europe\":0,\"Japan\":0,\"USA\":1},{\"MPG\":18.0,\"Cylinders\":6,\"Displacement\":250.0,\"Horsepower\":105.0,\"Weight\":3459.0,\"Acceleration\":16.0,\"Model Year\":75,\"Europe\":0,\"Japan\":0,\"USA\":1},{\"MPG\":15.0,\"Cylinders\":6,\"Displacement\":250.0,\"Horsepower\":72.0,\"Weight\":3432.0,\"Acceleration\":21.0,\"Model Year\":75,\"Europe\":0,\"Japan\":0,\"USA\":1},{\"MPG\":15.0,\"Cylinders\":6,\"Displacement\":250.0,\"Horsepower\":72.0,\"Weight\":3158.0,\"Acceleration\":19.5,\"Model Year\":75,\"Europe\":0,\"Japan\":0,\"USA\":1},{\"MPG\":16.0,\"Cylinders\":8,\"Displacement\":400.0,\"Horsepower\":170.0,\"Weight\":4668.0,\"Acceleration\":11.5,\"Model Year\":75,\"Europe\":0,\"Japan\":0,\"USA\":1},{\"MPG\":15.0,\"Cylinders\":8,\"Displacement\":350.0,\"Horsepower\":145.0,\"Weight\":4440.0,\"Acceleration\":14.0,\"Model Year\":75,\"Europe\":0,\"Japan\":0,\"USA\":1},{\"MPG\":16.0,\"Cylinders\":8,\"Displacement\":318.0,\"Horsepower\":150.0,\"Weight\":4498.0,\"Acceleration\":14.5,\"Model Year\":75,\"Europe\":0,\"Japan\":0,\"USA\":1},{\"MPG\":14.0,\"Cylinders\":8,\"Displacement\":351.0,\"Horsepower\":148.0,\"Weight\":4657.0,\"Acceleration\":13.5,\"Model Year\":75,\"Europe\":0,\"Japan\":0,\"USA\":1},{\"MPG\":17.0,\"Cylinders\":6,\"Displacement\":231.0,\"Horsepower\":110.0,\"Weight\":3907.0,\"Acceleration\":21.0,\"Model Year\":75,\"Europe\":0,\"Japan\":0,\"USA\":1},{\"MPG\":16.0,\"Cylinders\":6,\"Displacement\":250.0,\"Horsepower\":105.0,\"Weight\":3897.0,\"Acceleration\":18.5,\"Model Year\":75,\"Europe\":0,\"Japan\":0,\"USA\":1},{\"MPG\":15.0,\"Cylinders\":6,\"Displacement\":258.0,\"Horsepower\":110.0,\"Weight\":3730.0,\"Acceleration\":19.0,\"Model Year\":75,\"Europe\":0,\"Japan\":0,\"USA\":1},{\"MPG\":18.0,\"Cylinders\":6,\"Displacement\":225.0,\"Horsepower\":95.0,\"Weight\":3785.0,\"Acceleration\":19.0,\"Model Year\":75,\"Europe\":0,\"Japan\":0,\"USA\":1},{\"MPG\":21.0,\"Cylinders\":6,\"Displacement\":231.0,\"Horsepower\":110.0,\"Weight\":3039.0,\"Acceleration\":15.0,\"Model Year\":75,\"Europe\":0,\"Japan\":0,\"USA\":1},{\"MPG\":20.0,\"Cylinders\":8,\"Displacement\":262.0,\"Horsepower\":110.0,\"Weight\":3221.0,\"Acceleration\":13.5,\"Model Year\":75,\"Europe\":0,\"Japan\":0,\"USA\":1},{\"MPG\":13.0,\"Cylinders\":8,\"Displacement\":302.0,\"Horsepower\":129.0,\"Weight\":3169.0,\"Acceleration\":12.0,\"Model Year\":75,\"Europe\":0,\"Japan\":0,\"USA\":1},{\"MPG\":29.0,\"Cylinders\":4,\"Displacement\":97.0,\"Horsepower\":75.0,\"Weight\":2171.0,\"Acceleration\":16.0,\"Model Year\":75,\"Europe\":0,\"Japan\":1,\"USA\":0},{\"MPG\":23.0,\"Cylinders\":4,\"Displacement\":140.0,\"Horsepower\":83.0,\"Weight\":2639.0,\"Acceleration\":17.0,\"Model Year\":75,\"Europe\":0,\"Japan\":0,\"USA\":1},{\"MPG\":20.0,\"Cylinders\":6,\"Displacement\":232.0,\"Horsepower\":100.0,\"Weight\":2914.0,\"Acceleration\":16.0,\"Model Year\":75,\"Europe\":0,\"Japan\":0,\"USA\":1},{\"MPG\":23.0,\"Cylinders\":4,\"Displacement\":140.0,\"Horsepower\":78.0,\"Weight\":2592.0,\"Acceleration\":18.5,\"Model Year\":75,\"Europe\":0,\"Japan\":0,\"USA\":1},{\"MPG\":24.0,\"Cylinders\":4,\"Displacement\":134.0,\"Horsepower\":96.0,\"Weight\":2702.0,\"Acceleration\":13.5,\"Model Year\":75,\"Europe\":0,\"Japan\":1,\"USA\":0},{\"MPG\":25.0,\"Cylinders\":4,\"Displacement\":90.0,\"Horsepower\":71.0,\"Weight\":2223.0,\"Acceleration\":16.5,\"Model Year\":75,\"Europe\":1,\"Japan\":0,\"USA\":0},{\"MPG\":24.0,\"Cylinders\":4,\"Displacement\":119.0,\"Horsepower\":97.0,\"Weight\":2545.0,\"Acceleration\":17.0,\"Model Year\":75,\"Europe\":0,\"Japan\":1,\"USA\":0},{\"MPG\":18.0,\"Cylinders\":6,\"Displacement\":171.0,\"Horsepower\":97.0,\"Weight\":2984.0,\"Acceleration\":14.5,\"Model Year\":75,\"Europe\":0,\"Japan\":0,\"USA\":1},{\"MPG\":29.0,\"Cylinders\":4,\"Displacement\":90.0,\"Horsepower\":70.0,\"Weight\":1937.0,\"Acceleration\":14.0,\"Model Year\":75,\"Europe\":1,\"Japan\":0,\"USA\":0},{\"MPG\":19.0,\"Cylinders\":6,\"Displacement\":232.0,\"Horsepower\":90.0,\"Weight\":3211.0,\"Acceleration\":17.0,\"Model Year\":75,\"Europe\":0,\"Japan\":0,\"USA\":1},{\"MPG\":23.0,\"Cylinders\":4,\"Displacement\":115.0,\"Horsepower\":95.0,\"Weight\":2694.0,\"Acceleration\":15.0,\"Model Year\":75,\"Europe\":1,\"Japan\":0,\"USA\":0},{\"MPG\":23.0,\"Cylinders\":4,\"Displacement\":120.0,\"Horsepower\":88.0,\"Weight\":2957.0,\"Acceleration\":17.0,\"Model Year\":75,\"Europe\":1,\"Japan\":0,\"USA\":0},{\"MPG\":22.0,\"Cylinders\":4,\"Displacement\":121.0,\"Horsepower\":98.0,\"Weight\":2945.0,\"Acceleration\":14.5,\"Model Year\":75,\"Europe\":1,\"Japan\":0,\"USA\":0},{\"MPG\":25.0,\"Cylinders\":4,\"Displacement\":121.0,\"Horsepower\":115.0,\"Weight\":2671.0,\"Acceleration\":13.5,\"Model Year\":75,\"Europe\":1,\"Japan\":0,\"USA\":0},{\"MPG\":33.0,\"Cylinders\":4,\"Displacement\":91.0,\"Horsepower\":53.0,\"Weight\":1795.0,\"Acceleration\":17.5,\"Model Year\":75,\"Europe\":0,\"Japan\":1,\"USA\":0},{\"MPG\":28.0,\"Cylinders\":4,\"Displacement\":107.0,\"Horsepower\":86.0,\"Weight\":2464.0,\"Acceleration\":15.5,\"Model Year\":76,\"Europe\":1,\"Japan\":0,\"USA\":0},{\"MPG\":25.0,\"Cylinders\":4,\"Displacement\":116.0,\"Horsepower\":81.0,\"Weight\":2220.0,\"Acceleration\":16.9,\"Model Year\":76,\"Europe\":1,\"Japan\":0,\"USA\":0},{\"MPG\":25.0,\"Cylinders\":4,\"Displacement\":140.0,\"Horsepower\":92.0,\"Weight\":2572.0,\"Acceleration\":14.9,\"Model Year\":76,\"Europe\":0,\"Japan\":0,\"USA\":1},{\"MPG\":26.0,\"Cylinders\":4,\"Displacement\":98.0,\"Horsepower\":79.0,\"Weight\":2255.0,\"Acceleration\":17.7,\"Model Year\":76,\"Europe\":0,\"Japan\":0,\"USA\":1},{\"MPG\":27.0,\"Cylinders\":4,\"Displacement\":101.0,\"Horsepower\":83.0,\"Weight\":2202.0,\"Acceleration\":15.3,\"Model Year\":76,\"Europe\":1,\"Japan\":0,\"USA\":0},{\"MPG\":17.5,\"Cylinders\":8,\"Displacement\":305.0,\"Horsepower\":140.0,\"Weight\":4215.0,\"Acceleration\":13.0,\"Model Year\":76,\"Europe\":0,\"Japan\":0,\"USA\":1},{\"MPG\":16.0,\"Cylinders\":8,\"Displacement\":318.0,\"Horsepower\":150.0,\"Weight\":4190.0,\"Acceleration\":13.0,\"Model Year\":76,\"Europe\":0,\"Japan\":0,\"USA\":1},{\"MPG\":15.5,\"Cylinders\":8,\"Displacement\":304.0,\"Horsepower\":120.0,\"Weight\":3962.0,\"Acceleration\":13.9,\"Model Year\":76,\"Europe\":0,\"Japan\":0,\"USA\":1},{\"MPG\":14.5,\"Cylinders\":8,\"Displacement\":351.0,\"Horsepower\":152.0,\"Weight\":4215.0,\"Acceleration\":12.8,\"Model Year\":76,\"Europe\":0,\"Japan\":0,\"USA\":1},{\"MPG\":22.0,\"Cylinders\":6,\"Displacement\":225.0,\"Horsepower\":100.0,\"Weight\":3233.0,\"Acceleration\":15.4,\"Model Year\":76,\"Europe\":0,\"Japan\":0,\"USA\":1},{\"MPG\":22.0,\"Cylinders\":6,\"Displacement\":250.0,\"Horsepower\":105.0,\"Weight\":3353.0,\"Acceleration\":14.5,\"Model Year\":76,\"Europe\":0,\"Japan\":0,\"USA\":1},{\"MPG\":24.0,\"Cylinders\":6,\"Displacement\":200.0,\"Horsepower\":81.0,\"Weight\":3012.0,\"Acceleration\":17.6,\"Model Year\":76,\"Europe\":0,\"Japan\":0,\"USA\":1},{\"MPG\":22.5,\"Cylinders\":6,\"Displacement\":232.0,\"Horsepower\":90.0,\"Weight\":3085.0,\"Acceleration\":17.6,\"Model Year\":76,\"Europe\":0,\"Japan\":0,\"USA\":1},{\"MPG\":29.0,\"Cylinders\":4,\"Displacement\":85.0,\"Horsepower\":52.0,\"Weight\":2035.0,\"Acceleration\":22.2,\"Model Year\":76,\"Europe\":0,\"Japan\":0,\"USA\":1},{\"MPG\":24.5,\"Cylinders\":4,\"Displacement\":98.0,\"Horsepower\":60.0,\"Weight\":2164.0,\"Acceleration\":22.1,\"Model Year\":76,\"Europe\":0,\"Japan\":0,\"USA\":1},{\"MPG\":29.0,\"Cylinders\":4,\"Displacement\":90.0,\"Horsepower\":70.0,\"Weight\":1937.0,\"Acceleration\":14.2,\"Model Year\":76,\"Europe\":1,\"Japan\":0,\"USA\":0},{\"MPG\":33.0,\"Cylinders\":4,\"Displacement\":91.0,\"Horsepower\":53.0,\"Weight\":1795.0,\"Acceleration\":17.4,\"Model Year\":76,\"Europe\":0,\"Japan\":1,\"USA\":0},{\"MPG\":20.0,\"Cylinders\":6,\"Displacement\":225.0,\"Horsepower\":100.0,\"Weight\":3651.0,\"Acceleration\":17.7,\"Model Year\":76,\"Europe\":0,\"Japan\":0,\"USA\":1},{\"MPG\":18.0,\"Cylinders\":6,\"Displacement\":250.0,\"Horsepower\":78.0,\"Weight\":3574.0,\"Acceleration\":21.0,\"Model Year\":76,\"Europe\":0,\"Japan\":0,\"USA\":1},{\"MPG\":18.5,\"Cylinders\":6,\"Displacement\":250.0,\"Horsepower\":110.0,\"Weight\":3645.0,\"Acceleration\":16.2,\"Model Year\":76,\"Europe\":0,\"Japan\":0,\"USA\":1},{\"MPG\":17.5,\"Cylinders\":6,\"Displacement\":258.0,\"Horsepower\":95.0,\"Weight\":3193.0,\"Acceleration\":17.8,\"Model Year\":76,\"Europe\":0,\"Japan\":0,\"USA\":1},{\"MPG\":29.5,\"Cylinders\":4,\"Displacement\":97.0,\"Horsepower\":71.0,\"Weight\":1825.0,\"Acceleration\":12.2,\"Model Year\":76,\"Europe\":1,\"Japan\":0,\"USA\":0},{\"MPG\":32.0,\"Cylinders\":4,\"Displacement\":85.0,\"Horsepower\":70.0,\"Weight\":1990.0,\"Acceleration\":17.0,\"Model Year\":76,\"Europe\":0,\"Japan\":1,\"USA\":0},{\"MPG\":28.0,\"Cylinders\":4,\"Displacement\":97.0,\"Horsepower\":75.0,\"Weight\":2155.0,\"Acceleration\":16.4,\"Model Year\":76,\"Europe\":0,\"Japan\":1,\"USA\":0},{\"MPG\":26.5,\"Cylinders\":4,\"Displacement\":140.0,\"Horsepower\":72.0,\"Weight\":2565.0,\"Acceleration\":13.6,\"Model Year\":76,\"Europe\":0,\"Japan\":0,\"USA\":1},{\"MPG\":20.0,\"Cylinders\":4,\"Displacement\":130.0,\"Horsepower\":102.0,\"Weight\":3150.0,\"Acceleration\":15.7,\"Model Year\":76,\"Europe\":1,\"Japan\":0,\"USA\":0},{\"MPG\":13.0,\"Cylinders\":8,\"Displacement\":318.0,\"Horsepower\":150.0,\"Weight\":3940.0,\"Acceleration\":13.2,\"Model Year\":76,\"Europe\":0,\"Japan\":0,\"USA\":1},{\"MPG\":19.0,\"Cylinders\":4,\"Displacement\":120.0,\"Horsepower\":88.0,\"Weight\":3270.0,\"Acceleration\":21.9,\"Model Year\":76,\"Europe\":1,\"Japan\":0,\"USA\":0},{\"MPG\":19.0,\"Cylinders\":6,\"Displacement\":156.0,\"Horsepower\":108.0,\"Weight\":2930.0,\"Acceleration\":15.5,\"Model Year\":76,\"Europe\":0,\"Japan\":1,\"USA\":0},{\"MPG\":16.5,\"Cylinders\":6,\"Displacement\":168.0,\"Horsepower\":120.0,\"Weight\":3820.0,\"Acceleration\":16.7,\"Model Year\":76,\"Europe\":1,\"Japan\":0,\"USA\":0},{\"MPG\":16.5,\"Cylinders\":8,\"Displacement\":350.0,\"Horsepower\":180.0,\"Weight\":4380.0,\"Acceleration\":12.1,\"Model Year\":76,\"Europe\":0,\"Japan\":0,\"USA\":1},{\"MPG\":13.0,\"Cylinders\":8,\"Displacement\":350.0,\"Horsepower\":145.0,\"Weight\":4055.0,\"Acceleration\":12.0,\"Model Year\":76,\"Europe\":0,\"Japan\":0,\"USA\":1},{\"MPG\":13.0,\"Cylinders\":8,\"Displacement\":302.0,\"Horsepower\":130.0,\"Weight\":3870.0,\"Acceleration\":15.0,\"Model Year\":76,\"Europe\":0,\"Japan\":0,\"USA\":1},{\"MPG\":13.0,\"Cylinders\":8,\"Displacement\":318.0,\"Horsepower\":150.0,\"Weight\":3755.0,\"Acceleration\":14.0,\"Model Year\":76,\"Europe\":0,\"Japan\":0,\"USA\":1},{\"MPG\":31.5,\"Cylinders\":4,\"Displacement\":98.0,\"Horsepower\":68.0,\"Weight\":2045.0,\"Acceleration\":18.5,\"Model Year\":77,\"Europe\":0,\"Japan\":1,\"USA\":0},{\"MPG\":30.0,\"Cylinders\":4,\"Displacement\":111.0,\"Horsepower\":80.0,\"Weight\":2155.0,\"Acceleration\":14.8,\"Model Year\":77,\"Europe\":0,\"Japan\":0,\"USA\":1},{\"MPG\":36.0,\"Cylinders\":4,\"Displacement\":79.0,\"Horsepower\":58.0,\"Weight\":1825.0,\"Acceleration\":18.6,\"Model Year\":77,\"Europe\":1,\"Japan\":0,\"USA\":0},{\"MPG\":25.5,\"Cylinders\":4,\"Displacement\":122.0,\"Horsepower\":96.0,\"Weight\":2300.0,\"Acceleration\":15.5,\"Model Year\":77,\"Europe\":0,\"Japan\":0,\"USA\":1},{\"MPG\":33.5,\"Cylinders\":4,\"Displacement\":85.0,\"Horsepower\":70.0,\"Weight\":1945.0,\"Acceleration\":16.8,\"Model Year\":77,\"Europe\":0,\"Japan\":1,\"USA\":0},{\"MPG\":17.5,\"Cylinders\":8,\"Displacement\":305.0,\"Horsepower\":145.0,\"Weight\":3880.0,\"Acceleration\":12.5,\"Model Year\":77,\"Europe\":0,\"Japan\":0,\"USA\":1},{\"MPG\":17.0,\"Cylinders\":8,\"Displacement\":260.0,\"Horsepower\":110.0,\"Weight\":4060.0,\"Acceleration\":19.0,\"Model Year\":77,\"Europe\":0,\"Japan\":0,\"USA\":1},{\"MPG\":15.5,\"Cylinders\":8,\"Displacement\":318.0,\"Horsepower\":145.0,\"Weight\":4140.0,\"Acceleration\":13.7,\"Model Year\":77,\"Europe\":0,\"Japan\":0,\"USA\":1},{\"MPG\":15.0,\"Cylinders\":8,\"Displacement\":302.0,\"Horsepower\":130.0,\"Weight\":4295.0,\"Acceleration\":14.9,\"Model Year\":77,\"Europe\":0,\"Japan\":0,\"USA\":1},{\"MPG\":17.5,\"Cylinders\":6,\"Displacement\":250.0,\"Horsepower\":110.0,\"Weight\":3520.0,\"Acceleration\":16.4,\"Model Year\":77,\"Europe\":0,\"Japan\":0,\"USA\":1},{\"MPG\":20.5,\"Cylinders\":6,\"Displacement\":231.0,\"Horsepower\":105.0,\"Weight\":3425.0,\"Acceleration\":16.9,\"Model Year\":77,\"Europe\":0,\"Japan\":0,\"USA\":1},{\"MPG\":19.0,\"Cylinders\":6,\"Displacement\":225.0,\"Horsepower\":100.0,\"Weight\":3630.0,\"Acceleration\":17.7,\"Model Year\":77,\"Europe\":0,\"Japan\":0,\"USA\":1},{\"MPG\":18.5,\"Cylinders\":6,\"Displacement\":250.0,\"Horsepower\":98.0,\"Weight\":3525.0,\"Acceleration\":19.0,\"Model Year\":77,\"Europe\":0,\"Japan\":0,\"USA\":1},{\"MPG\":16.0,\"Cylinders\":8,\"Displacement\":400.0,\"Horsepower\":180.0,\"Weight\":4220.0,\"Acceleration\":11.1,\"Model Year\":77,\"Europe\":0,\"Japan\":0,\"USA\":1},{\"MPG\":15.5,\"Cylinders\":8,\"Displacement\":350.0,\"Horsepower\":170.0,\"Weight\":4165.0,\"Acceleration\":11.4,\"Model Year\":77,\"Europe\":0,\"Japan\":0,\"USA\":1},{\"MPG\":15.5,\"Cylinders\":8,\"Displacement\":400.0,\"Horsepower\":190.0,\"Weight\":4325.0,\"Acceleration\":12.2,\"Model Year\":77,\"Europe\":0,\"Japan\":0,\"USA\":1},{\"MPG\":16.0,\"Cylinders\":8,\"Displacement\":351.0,\"Horsepower\":149.0,\"Weight\":4335.0,\"Acceleration\":14.5,\"Model Year\":77,\"Europe\":0,\"Japan\":0,\"USA\":1},{\"MPG\":29.0,\"Cylinders\":4,\"Displacement\":97.0,\"Horsepower\":78.0,\"Weight\":1940.0,\"Acceleration\":14.5,\"Model Year\":77,\"Europe\":1,\"Japan\":0,\"USA\":0},{\"MPG\":24.5,\"Cylinders\":4,\"Displacement\":151.0,\"Horsepower\":88.0,\"Weight\":2740.0,\"Acceleration\":16.0,\"Model Year\":77,\"Europe\":0,\"Japan\":0,\"USA\":1},{\"MPG\":26.0,\"Cylinders\":4,\"Displacement\":97.0,\"Horsepower\":75.0,\"Weight\":2265.0,\"Acceleration\":18.2,\"Model Year\":77,\"Europe\":0,\"Japan\":1,\"USA\":0},{\"MPG\":25.5,\"Cylinders\":4,\"Displacement\":140.0,\"Horsepower\":89.0,\"Weight\":2755.0,\"Acceleration\":15.8,\"Model Year\":77,\"Europe\":0,\"Japan\":0,\"USA\":1},{\"MPG\":30.5,\"Cylinders\":4,\"Displacement\":98.0,\"Horsepower\":63.0,\"Weight\":2051.0,\"Acceleration\":17.0,\"Model Year\":77,\"Europe\":0,\"Japan\":0,\"USA\":1},{\"MPG\":33.5,\"Cylinders\":4,\"Displacement\":98.0,\"Horsepower\":83.0,\"Weight\":2075.0,\"Acceleration\":15.9,\"Model Year\":77,\"Europe\":0,\"Japan\":0,\"USA\":1},{\"MPG\":30.0,\"Cylinders\":4,\"Displacement\":97.0,\"Horsepower\":67.0,\"Weight\":1985.0,\"Acceleration\":16.4,\"Model Year\":77,\"Europe\":0,\"Japan\":1,\"USA\":0},{\"MPG\":30.5,\"Cylinders\":4,\"Displacement\":97.0,\"Horsepower\":78.0,\"Weight\":2190.0,\"Acceleration\":14.1,\"Model Year\":77,\"Europe\":1,\"Japan\":0,\"USA\":0},{\"MPG\":22.0,\"Cylinders\":6,\"Displacement\":146.0,\"Horsepower\":97.0,\"Weight\":2815.0,\"Acceleration\":14.5,\"Model Year\":77,\"Europe\":0,\"Japan\":1,\"USA\":0},{\"MPG\":21.5,\"Cylinders\":4,\"Displacement\":121.0,\"Horsepower\":110.0,\"Weight\":2600.0,\"Acceleration\":12.8,\"Model Year\":77,\"Europe\":1,\"Japan\":0,\"USA\":0},{\"MPG\":21.5,\"Cylinders\":3,\"Displacement\":80.0,\"Horsepower\":110.0,\"Weight\":2720.0,\"Acceleration\":13.5,\"Model Year\":77,\"Europe\":0,\"Japan\":1,\"USA\":0},{\"MPG\":43.1,\"Cylinders\":4,\"Displacement\":90.0,\"Horsepower\":48.0,\"Weight\":1985.0,\"Acceleration\":21.5,\"Model Year\":78,\"Europe\":1,\"Japan\":0,\"USA\":0},{\"MPG\":36.1,\"Cylinders\":4,\"Displacement\":98.0,\"Horsepower\":66.0,\"Weight\":1800.0,\"Acceleration\":14.4,\"Model Year\":78,\"Europe\":0,\"Japan\":0,\"USA\":1},{\"MPG\":32.8,\"Cylinders\":4,\"Displacement\":78.0,\"Horsepower\":52.0,\"Weight\":1985.0,\"Acceleration\":19.4,\"Model Year\":78,\"Europe\":0,\"Japan\":1,\"USA\":0},{\"MPG\":39.4,\"Cylinders\":4,\"Displacement\":85.0,\"Horsepower\":70.0,\"Weight\":2070.0,\"Acceleration\":18.6,\"Model Year\":78,\"Europe\":0,\"Japan\":1,\"USA\":0},{\"MPG\":36.1,\"Cylinders\":4,\"Displacement\":91.0,\"Horsepower\":60.0,\"Weight\":1800.0,\"Acceleration\":16.4,\"Model Year\":78,\"Europe\":0,\"Japan\":1,\"USA\":0},{\"MPG\":19.9,\"Cylinders\":8,\"Displacement\":260.0,\"Horsepower\":110.0,\"Weight\":3365.0,\"Acceleration\":15.5,\"Model Year\":78,\"Europe\":0,\"Japan\":0,\"USA\":1},{\"MPG\":19.4,\"Cylinders\":8,\"Displacement\":318.0,\"Horsepower\":140.0,\"Weight\":3735.0,\"Acceleration\":13.2,\"Model Year\":78,\"Europe\":0,\"Japan\":0,\"USA\":1},{\"MPG\":20.2,\"Cylinders\":8,\"Displacement\":302.0,\"Horsepower\":139.0,\"Weight\":3570.0,\"Acceleration\":12.8,\"Model Year\":78,\"Europe\":0,\"Japan\":0,\"USA\":1},{\"MPG\":19.2,\"Cylinders\":6,\"Displacement\":231.0,\"Horsepower\":105.0,\"Weight\":3535.0,\"Acceleration\":19.2,\"Model Year\":78,\"Europe\":0,\"Japan\":0,\"USA\":1},{\"MPG\":20.5,\"Cylinders\":6,\"Displacement\":200.0,\"Horsepower\":95.0,\"Weight\":3155.0,\"Acceleration\":18.2,\"Model Year\":78,\"Europe\":0,\"Japan\":0,\"USA\":1},{\"MPG\":20.2,\"Cylinders\":6,\"Displacement\":200.0,\"Horsepower\":85.0,\"Weight\":2965.0,\"Acceleration\":15.8,\"Model Year\":78,\"Europe\":0,\"Japan\":0,\"USA\":1},{\"MPG\":25.1,\"Cylinders\":4,\"Displacement\":140.0,\"Horsepower\":88.0,\"Weight\":2720.0,\"Acceleration\":15.4,\"Model Year\":78,\"Europe\":0,\"Japan\":0,\"USA\":1},{\"MPG\":20.5,\"Cylinders\":6,\"Displacement\":225.0,\"Horsepower\":100.0,\"Weight\":3430.0,\"Acceleration\":17.2,\"Model Year\":78,\"Europe\":0,\"Japan\":0,\"USA\":1},{\"MPG\":19.4,\"Cylinders\":6,\"Displacement\":232.0,\"Horsepower\":90.0,\"Weight\":3210.0,\"Acceleration\":17.2,\"Model Year\":78,\"Europe\":0,\"Japan\":0,\"USA\":1},{\"MPG\":20.6,\"Cylinders\":6,\"Displacement\":231.0,\"Horsepower\":105.0,\"Weight\":3380.0,\"Acceleration\":15.8,\"Model Year\":78,\"Europe\":0,\"Japan\":0,\"USA\":1},{\"MPG\":20.8,\"Cylinders\":6,\"Displacement\":200.0,\"Horsepower\":85.0,\"Weight\":3070.0,\"Acceleration\":16.7,\"Model Year\":78,\"Europe\":0,\"Japan\":0,\"USA\":1},{\"MPG\":18.6,\"Cylinders\":6,\"Displacement\":225.0,\"Horsepower\":110.0,\"Weight\":3620.0,\"Acceleration\":18.7,\"Model Year\":78,\"Europe\":0,\"Japan\":0,\"USA\":1},{\"MPG\":18.1,\"Cylinders\":6,\"Displacement\":258.0,\"Horsepower\":120.0,\"Weight\":3410.0,\"Acceleration\":15.1,\"Model Year\":78,\"Europe\":0,\"Japan\":0,\"USA\":1},{\"MPG\":19.2,\"Cylinders\":8,\"Displacement\":305.0,\"Horsepower\":145.0,\"Weight\":3425.0,\"Acceleration\":13.2,\"Model Year\":78,\"Europe\":0,\"Japan\":0,\"USA\":1},{\"MPG\":17.7,\"Cylinders\":6,\"Displacement\":231.0,\"Horsepower\":165.0,\"Weight\":3445.0,\"Acceleration\":13.4,\"Model Year\":78,\"Europe\":0,\"Japan\":0,\"USA\":1},{\"MPG\":18.1,\"Cylinders\":8,\"Displacement\":302.0,\"Horsepower\":139.0,\"Weight\":3205.0,\"Acceleration\":11.2,\"Model Year\":78,\"Europe\":0,\"Japan\":0,\"USA\":1},{\"MPG\":17.5,\"Cylinders\":8,\"Displacement\":318.0,\"Horsepower\":140.0,\"Weight\":4080.0,\"Acceleration\":13.7,\"Model Year\":78,\"Europe\":0,\"Japan\":0,\"USA\":1},{\"MPG\":30.0,\"Cylinders\":4,\"Displacement\":98.0,\"Horsepower\":68.0,\"Weight\":2155.0,\"Acceleration\":16.5,\"Model Year\":78,\"Europe\":0,\"Japan\":0,\"USA\":1},{\"MPG\":27.5,\"Cylinders\":4,\"Displacement\":134.0,\"Horsepower\":95.0,\"Weight\":2560.0,\"Acceleration\":14.2,\"Model Year\":78,\"Europe\":0,\"Japan\":1,\"USA\":0},{\"MPG\":27.2,\"Cylinders\":4,\"Displacement\":119.0,\"Horsepower\":97.0,\"Weight\":2300.0,\"Acceleration\":14.7,\"Model Year\":78,\"Europe\":0,\"Japan\":1,\"USA\":0},{\"MPG\":30.9,\"Cylinders\":4,\"Displacement\":105.0,\"Horsepower\":75.0,\"Weight\":2230.0,\"Acceleration\":14.5,\"Model Year\":78,\"Europe\":0,\"Japan\":0,\"USA\":1},{\"MPG\":21.1,\"Cylinders\":4,\"Displacement\":134.0,\"Horsepower\":95.0,\"Weight\":2515.0,\"Acceleration\":14.8,\"Model Year\":78,\"Europe\":0,\"Japan\":1,\"USA\":0},{\"MPG\":23.2,\"Cylinders\":4,\"Displacement\":156.0,\"Horsepower\":105.0,\"Weight\":2745.0,\"Acceleration\":16.7,\"Model Year\":78,\"Europe\":0,\"Japan\":0,\"USA\":1},{\"MPG\":23.8,\"Cylinders\":4,\"Displacement\":151.0,\"Horsepower\":85.0,\"Weight\":2855.0,\"Acceleration\":17.6,\"Model Year\":78,\"Europe\":0,\"Japan\":0,\"USA\":1},{\"MPG\":23.9,\"Cylinders\":4,\"Displacement\":119.0,\"Horsepower\":97.0,\"Weight\":2405.0,\"Acceleration\":14.9,\"Model Year\":78,\"Europe\":0,\"Japan\":1,\"USA\":0},{\"MPG\":20.3,\"Cylinders\":5,\"Displacement\":131.0,\"Horsepower\":103.0,\"Weight\":2830.0,\"Acceleration\":15.9,\"Model Year\":78,\"Europe\":1,\"Japan\":0,\"USA\":0},{\"MPG\":17.0,\"Cylinders\":6,\"Displacement\":163.0,\"Horsepower\":125.0,\"Weight\":3140.0,\"Acceleration\":13.6,\"Model Year\":78,\"Europe\":1,\"Japan\":0,\"USA\":0},{\"MPG\":21.6,\"Cylinders\":4,\"Displacement\":121.0,\"Horsepower\":115.0,\"Weight\":2795.0,\"Acceleration\":15.7,\"Model Year\":78,\"Europe\":1,\"Japan\":0,\"USA\":0},{\"MPG\":16.2,\"Cylinders\":6,\"Displacement\":163.0,\"Horsepower\":133.0,\"Weight\":3410.0,\"Acceleration\":15.8,\"Model Year\":78,\"Europe\":1,\"Japan\":0,\"USA\":0},{\"MPG\":31.5,\"Cylinders\":4,\"Displacement\":89.0,\"Horsepower\":71.0,\"Weight\":1990.0,\"Acceleration\":14.9,\"Model Year\":78,\"Europe\":1,\"Japan\":0,\"USA\":0},{\"MPG\":29.5,\"Cylinders\":4,\"Displacement\":98.0,\"Horsepower\":68.0,\"Weight\":2135.0,\"Acceleration\":16.6,\"Model Year\":78,\"Europe\":0,\"Japan\":1,\"USA\":0},{\"MPG\":21.5,\"Cylinders\":6,\"Displacement\":231.0,\"Horsepower\":115.0,\"Weight\":3245.0,\"Acceleration\":15.4,\"Model Year\":79,\"Europe\":0,\"Japan\":0,\"USA\":1},{\"MPG\":19.8,\"Cylinders\":6,\"Displacement\":200.0,\"Horsepower\":85.0,\"Weight\":2990.0,\"Acceleration\":18.2,\"Model Year\":79,\"Europe\":0,\"Japan\":0,\"USA\":1},{\"MPG\":22.3,\"Cylinders\":4,\"Displacement\":140.0,\"Horsepower\":88.0,\"Weight\":2890.0,\"Acceleration\":17.3,\"Model Year\":79,\"Europe\":0,\"Japan\":0,\"USA\":1},{\"MPG\":20.2,\"Cylinders\":6,\"Displacement\":232.0,\"Horsepower\":90.0,\"Weight\":3265.0,\"Acceleration\":18.2,\"Model Year\":79,\"Europe\":0,\"Japan\":0,\"USA\":1},{\"MPG\":20.6,\"Cylinders\":6,\"Displacement\":225.0,\"Horsepower\":110.0,\"Weight\":3360.0,\"Acceleration\":16.6,\"Model Year\":79,\"Europe\":0,\"Japan\":0,\"USA\":1},{\"MPG\":17.0,\"Cylinders\":8,\"Displacement\":305.0,\"Horsepower\":130.0,\"Weight\":3840.0,\"Acceleration\":15.4,\"Model Year\":79,\"Europe\":0,\"Japan\":0,\"USA\":1},{\"MPG\":17.6,\"Cylinders\":8,\"Displacement\":302.0,\"Horsepower\":129.0,\"Weight\":3725.0,\"Acceleration\":13.4,\"Model Year\":79,\"Europe\":0,\"Japan\":0,\"USA\":1},{\"MPG\":16.5,\"Cylinders\":8,\"Displacement\":351.0,\"Horsepower\":138.0,\"Weight\":3955.0,\"Acceleration\":13.2,\"Model Year\":79,\"Europe\":0,\"Japan\":0,\"USA\":1},{\"MPG\":18.2,\"Cylinders\":8,\"Displacement\":318.0,\"Horsepower\":135.0,\"Weight\":3830.0,\"Acceleration\":15.2,\"Model Year\":79,\"Europe\":0,\"Japan\":0,\"USA\":1},{\"MPG\":16.9,\"Cylinders\":8,\"Displacement\":350.0,\"Horsepower\":155.0,\"Weight\":4360.0,\"Acceleration\":14.9,\"Model Year\":79,\"Europe\":0,\"Japan\":0,\"USA\":1},{\"MPG\":15.5,\"Cylinders\":8,\"Displacement\":351.0,\"Horsepower\":142.0,\"Weight\":4054.0,\"Acceleration\":14.3,\"Model Year\":79,\"Europe\":0,\"Japan\":0,\"USA\":1},{\"MPG\":19.2,\"Cylinders\":8,\"Displacement\":267.0,\"Horsepower\":125.0,\"Weight\":3605.0,\"Acceleration\":15.0,\"Model Year\":79,\"Europe\":0,\"Japan\":0,\"USA\":1},{\"MPG\":18.5,\"Cylinders\":8,\"Displacement\":360.0,\"Horsepower\":150.0,\"Weight\":3940.0,\"Acceleration\":13.0,\"Model Year\":79,\"Europe\":0,\"Japan\":0,\"USA\":1},{\"MPG\":31.9,\"Cylinders\":4,\"Displacement\":89.0,\"Horsepower\":71.0,\"Weight\":1925.0,\"Acceleration\":14.0,\"Model Year\":79,\"Europe\":1,\"Japan\":0,\"USA\":0},{\"MPG\":34.1,\"Cylinders\":4,\"Displacement\":86.0,\"Horsepower\":65.0,\"Weight\":1975.0,\"Acceleration\":15.2,\"Model Year\":79,\"Europe\":0,\"Japan\":1,\"USA\":0},{\"MPG\":35.7,\"Cylinders\":4,\"Displacement\":98.0,\"Horsepower\":80.0,\"Weight\":1915.0,\"Acceleration\":14.4,\"Model Year\":79,\"Europe\":0,\"Japan\":0,\"USA\":1},{\"MPG\":27.4,\"Cylinders\":4,\"Displacement\":121.0,\"Horsepower\":80.0,\"Weight\":2670.0,\"Acceleration\":15.0,\"Model Year\":79,\"Europe\":0,\"Japan\":0,\"USA\":1},{\"MPG\":25.4,\"Cylinders\":5,\"Displacement\":183.0,\"Horsepower\":77.0,\"Weight\":3530.0,\"Acceleration\":20.1,\"Model Year\":79,\"Europe\":1,\"Japan\":0,\"USA\":0},{\"MPG\":23.0,\"Cylinders\":8,\"Displacement\":350.0,\"Horsepower\":125.0,\"Weight\":3900.0,\"Acceleration\":17.4,\"Model Year\":79,\"Europe\":0,\"Japan\":0,\"USA\":1},{\"MPG\":27.2,\"Cylinders\":4,\"Displacement\":141.0,\"Horsepower\":71.0,\"Weight\":3190.0,\"Acceleration\":24.8,\"Model Year\":79,\"Europe\":1,\"Japan\":0,\"USA\":0},{\"MPG\":23.9,\"Cylinders\":8,\"Displacement\":260.0,\"Horsepower\":90.0,\"Weight\":3420.0,\"Acceleration\":22.2,\"Model Year\":79,\"Europe\":0,\"Japan\":0,\"USA\":1},{\"MPG\":34.2,\"Cylinders\":4,\"Displacement\":105.0,\"Horsepower\":70.0,\"Weight\":2200.0,\"Acceleration\":13.2,\"Model Year\":79,\"Europe\":0,\"Japan\":0,\"USA\":1},{\"MPG\":34.5,\"Cylinders\":4,\"Displacement\":105.0,\"Horsepower\":70.0,\"Weight\":2150.0,\"Acceleration\":14.9,\"Model Year\":79,\"Europe\":0,\"Japan\":0,\"USA\":1},{\"MPG\":31.8,\"Cylinders\":4,\"Displacement\":85.0,\"Horsepower\":65.0,\"Weight\":2020.0,\"Acceleration\":19.2,\"Model Year\":79,\"Europe\":0,\"Japan\":1,\"USA\":0},{\"MPG\":37.3,\"Cylinders\":4,\"Displacement\":91.0,\"Horsepower\":69.0,\"Weight\":2130.0,\"Acceleration\":14.7,\"Model Year\":79,\"Europe\":1,\"Japan\":0,\"USA\":0},{\"MPG\":28.4,\"Cylinders\":4,\"Displacement\":151.0,\"Horsepower\":90.0,\"Weight\":2670.0,\"Acceleration\":16.0,\"Model Year\":79,\"Europe\":0,\"Japan\":0,\"USA\":1},{\"MPG\":28.8,\"Cylinders\":6,\"Displacement\":173.0,\"Horsepower\":115.0,\"Weight\":2595.0,\"Acceleration\":11.3,\"Model Year\":79,\"Europe\":0,\"Japan\":0,\"USA\":1},{\"MPG\":26.8,\"Cylinders\":6,\"Displacement\":173.0,\"Horsepower\":115.0,\"Weight\":2700.0,\"Acceleration\":12.9,\"Model Year\":79,\"Europe\":0,\"Japan\":0,\"USA\":1},{\"MPG\":33.5,\"Cylinders\":4,\"Displacement\":151.0,\"Horsepower\":90.0,\"Weight\":2556.0,\"Acceleration\":13.2,\"Model Year\":79,\"Europe\":0,\"Japan\":0,\"USA\":1},{\"MPG\":41.5,\"Cylinders\":4,\"Displacement\":98.0,\"Horsepower\":76.0,\"Weight\":2144.0,\"Acceleration\":14.7,\"Model Year\":80,\"Europe\":1,\"Japan\":0,\"USA\":0},{\"MPG\":38.1,\"Cylinders\":4,\"Displacement\":89.0,\"Horsepower\":60.0,\"Weight\":1968.0,\"Acceleration\":18.8,\"Model Year\":80,\"Europe\":0,\"Japan\":1,\"USA\":0},{\"MPG\":32.1,\"Cylinders\":4,\"Displacement\":98.0,\"Horsepower\":70.0,\"Weight\":2120.0,\"Acceleration\":15.5,\"Model Year\":80,\"Europe\":0,\"Japan\":0,\"USA\":1},{\"MPG\":37.2,\"Cylinders\":4,\"Displacement\":86.0,\"Horsepower\":65.0,\"Weight\":2019.0,\"Acceleration\":16.4,\"Model Year\":80,\"Europe\":0,\"Japan\":1,\"USA\":0},{\"MPG\":28.0,\"Cylinders\":4,\"Displacement\":151.0,\"Horsepower\":90.0,\"Weight\":2678.0,\"Acceleration\":16.5,\"Model Year\":80,\"Europe\":0,\"Japan\":0,\"USA\":1},{\"MPG\":26.4,\"Cylinders\":4,\"Displacement\":140.0,\"Horsepower\":88.0,\"Weight\":2870.0,\"Acceleration\":18.1,\"Model Year\":80,\"Europe\":0,\"Japan\":0,\"USA\":1},{\"MPG\":24.3,\"Cylinders\":4,\"Displacement\":151.0,\"Horsepower\":90.0,\"Weight\":3003.0,\"Acceleration\":20.1,\"Model Year\":80,\"Europe\":0,\"Japan\":0,\"USA\":1},{\"MPG\":19.1,\"Cylinders\":6,\"Displacement\":225.0,\"Horsepower\":90.0,\"Weight\":3381.0,\"Acceleration\":18.7,\"Model Year\":80,\"Europe\":0,\"Japan\":0,\"USA\":1},{\"MPG\":34.3,\"Cylinders\":4,\"Displacement\":97.0,\"Horsepower\":78.0,\"Weight\":2188.0,\"Acceleration\":15.8,\"Model Year\":80,\"Europe\":1,\"Japan\":0,\"USA\":0},{\"MPG\":29.8,\"Cylinders\":4,\"Displacement\":134.0,\"Horsepower\":90.0,\"Weight\":2711.0,\"Acceleration\":15.5,\"Model Year\":80,\"Europe\":0,\"Japan\":1,\"USA\":0},{\"MPG\":31.3,\"Cylinders\":4,\"Displacement\":120.0,\"Horsepower\":75.0,\"Weight\":2542.0,\"Acceleration\":17.5,\"Model Year\":80,\"Europe\":0,\"Japan\":1,\"USA\":0},{\"MPG\":37.0,\"Cylinders\":4,\"Displacement\":119.0,\"Horsepower\":92.0,\"Weight\":2434.0,\"Acceleration\":15.0,\"Model Year\":80,\"Europe\":0,\"Japan\":1,\"USA\":0},{\"MPG\":32.2,\"Cylinders\":4,\"Displacement\":108.0,\"Horsepower\":75.0,\"Weight\":2265.0,\"Acceleration\":15.2,\"Model Year\":80,\"Europe\":0,\"Japan\":1,\"USA\":0},{\"MPG\":46.6,\"Cylinders\":4,\"Displacement\":86.0,\"Horsepower\":65.0,\"Weight\":2110.0,\"Acceleration\":17.9,\"Model Year\":80,\"Europe\":0,\"Japan\":1,\"USA\":0},{\"MPG\":27.9,\"Cylinders\":4,\"Displacement\":156.0,\"Horsepower\":105.0,\"Weight\":2800.0,\"Acceleration\":14.4,\"Model Year\":80,\"Europe\":0,\"Japan\":0,\"USA\":1},{\"MPG\":40.8,\"Cylinders\":4,\"Displacement\":85.0,\"Horsepower\":65.0,\"Weight\":2110.0,\"Acceleration\":19.2,\"Model Year\":80,\"Europe\":0,\"Japan\":1,\"USA\":0},{\"MPG\":44.3,\"Cylinders\":4,\"Displacement\":90.0,\"Horsepower\":48.0,\"Weight\":2085.0,\"Acceleration\":21.7,\"Model Year\":80,\"Europe\":1,\"Japan\":0,\"USA\":0},{\"MPG\":43.4,\"Cylinders\":4,\"Displacement\":90.0,\"Horsepower\":48.0,\"Weight\":2335.0,\"Acceleration\":23.7,\"Model Year\":80,\"Europe\":1,\"Japan\":0,\"USA\":0},{\"MPG\":36.4,\"Cylinders\":5,\"Displacement\":121.0,\"Horsepower\":67.0,\"Weight\":2950.0,\"Acceleration\":19.9,\"Model Year\":80,\"Europe\":1,\"Japan\":0,\"USA\":0},{\"MPG\":30.0,\"Cylinders\":4,\"Displacement\":146.0,\"Horsepower\":67.0,\"Weight\":3250.0,\"Acceleration\":21.8,\"Model Year\":80,\"Europe\":1,\"Japan\":0,\"USA\":0},{\"MPG\":44.6,\"Cylinders\":4,\"Displacement\":91.0,\"Horsepower\":67.0,\"Weight\":1850.0,\"Acceleration\":13.8,\"Model Year\":80,\"Europe\":0,\"Japan\":1,\"USA\":0},{\"MPG\":33.8,\"Cylinders\":4,\"Displacement\":97.0,\"Horsepower\":67.0,\"Weight\":2145.0,\"Acceleration\":18.0,\"Model Year\":80,\"Europe\":0,\"Japan\":1,\"USA\":0},{\"MPG\":29.8,\"Cylinders\":4,\"Displacement\":89.0,\"Horsepower\":62.0,\"Weight\":1845.0,\"Acceleration\":15.3,\"Model Year\":80,\"Europe\":1,\"Japan\":0,\"USA\":0},{\"MPG\":32.7,\"Cylinders\":6,\"Displacement\":168.0,\"Horsepower\":132.0,\"Weight\":2910.0,\"Acceleration\":11.4,\"Model Year\":80,\"Europe\":0,\"Japan\":1,\"USA\":0},{\"MPG\":23.7,\"Cylinders\":3,\"Displacement\":70.0,\"Horsepower\":100.0,\"Weight\":2420.0,\"Acceleration\":12.5,\"Model Year\":80,\"Europe\":0,\"Japan\":1,\"USA\":0},{\"MPG\":35.0,\"Cylinders\":4,\"Displacement\":122.0,\"Horsepower\":88.0,\"Weight\":2500.0,\"Acceleration\":15.1,\"Model Year\":80,\"Europe\":1,\"Japan\":0,\"USA\":0},{\"MPG\":32.4,\"Cylinders\":4,\"Displacement\":107.0,\"Horsepower\":72.0,\"Weight\":2290.0,\"Acceleration\":17.0,\"Model Year\":80,\"Europe\":0,\"Japan\":1,\"USA\":0},{\"MPG\":27.2,\"Cylinders\":4,\"Displacement\":135.0,\"Horsepower\":84.0,\"Weight\":2490.0,\"Acceleration\":15.7,\"Model Year\":81,\"Europe\":0,\"Japan\":0,\"USA\":1},{\"MPG\":26.6,\"Cylinders\":4,\"Displacement\":151.0,\"Horsepower\":84.0,\"Weight\":2635.0,\"Acceleration\":16.4,\"Model Year\":81,\"Europe\":0,\"Japan\":0,\"USA\":1},{\"MPG\":25.8,\"Cylinders\":4,\"Displacement\":156.0,\"Horsepower\":92.0,\"Weight\":2620.0,\"Acceleration\":14.4,\"Model Year\":81,\"Europe\":0,\"Japan\":0,\"USA\":1},{\"MPG\":23.5,\"Cylinders\":6,\"Displacement\":173.0,\"Horsepower\":110.0,\"Weight\":2725.0,\"Acceleration\":12.6,\"Model Year\":81,\"Europe\":0,\"Japan\":0,\"USA\":1},{\"MPG\":30.0,\"Cylinders\":4,\"Displacement\":135.0,\"Horsepower\":84.0,\"Weight\":2385.0,\"Acceleration\":12.9,\"Model Year\":81,\"Europe\":0,\"Japan\":0,\"USA\":1},{\"MPG\":39.1,\"Cylinders\":4,\"Displacement\":79.0,\"Horsepower\":58.0,\"Weight\":1755.0,\"Acceleration\":16.9,\"Model Year\":81,\"Europe\":0,\"Japan\":1,\"USA\":0},{\"MPG\":39.0,\"Cylinders\":4,\"Displacement\":86.0,\"Horsepower\":64.0,\"Weight\":1875.0,\"Acceleration\":16.4,\"Model Year\":81,\"Europe\":0,\"Japan\":0,\"USA\":1},{\"MPG\":35.1,\"Cylinders\":4,\"Displacement\":81.0,\"Horsepower\":60.0,\"Weight\":1760.0,\"Acceleration\":16.1,\"Model Year\":81,\"Europe\":0,\"Japan\":1,\"USA\":0},{\"MPG\":32.3,\"Cylinders\":4,\"Displacement\":97.0,\"Horsepower\":67.0,\"Weight\":2065.0,\"Acceleration\":17.8,\"Model Year\":81,\"Europe\":0,\"Japan\":1,\"USA\":0},{\"MPG\":37.0,\"Cylinders\":4,\"Displacement\":85.0,\"Horsepower\":65.0,\"Weight\":1975.0,\"Acceleration\":19.4,\"Model Year\":81,\"Europe\":0,\"Japan\":1,\"USA\":0},{\"MPG\":37.7,\"Cylinders\":4,\"Displacement\":89.0,\"Horsepower\":62.0,\"Weight\":2050.0,\"Acceleration\":17.3,\"Model Year\":81,\"Europe\":0,\"Japan\":1,\"USA\":0},{\"MPG\":34.1,\"Cylinders\":4,\"Displacement\":91.0,\"Horsepower\":68.0,\"Weight\":1985.0,\"Acceleration\":16.0,\"Model Year\":81,\"Europe\":0,\"Japan\":1,\"USA\":0},{\"MPG\":34.7,\"Cylinders\":4,\"Displacement\":105.0,\"Horsepower\":63.0,\"Weight\":2215.0,\"Acceleration\":14.9,\"Model Year\":81,\"Europe\":0,\"Japan\":0,\"USA\":1},{\"MPG\":34.4,\"Cylinders\":4,\"Displacement\":98.0,\"Horsepower\":65.0,\"Weight\":2045.0,\"Acceleration\":16.2,\"Model Year\":81,\"Europe\":0,\"Japan\":0,\"USA\":1},{\"MPG\":29.9,\"Cylinders\":4,\"Displacement\":98.0,\"Horsepower\":65.0,\"Weight\":2380.0,\"Acceleration\":20.7,\"Model Year\":81,\"Europe\":0,\"Japan\":0,\"USA\":1},{\"MPG\":33.0,\"Cylinders\":4,\"Displacement\":105.0,\"Horsepower\":74.0,\"Weight\":2190.0,\"Acceleration\":14.2,\"Model Year\":81,\"Europe\":1,\"Japan\":0,\"USA\":0},{\"MPG\":33.7,\"Cylinders\":4,\"Displacement\":107.0,\"Horsepower\":75.0,\"Weight\":2210.0,\"Acceleration\":14.4,\"Model Year\":81,\"Europe\":0,\"Japan\":1,\"USA\":0},{\"MPG\":32.4,\"Cylinders\":4,\"Displacement\":108.0,\"Horsepower\":75.0,\"Weight\":2350.0,\"Acceleration\":16.8,\"Model Year\":81,\"Europe\":0,\"Japan\":1,\"USA\":0},{\"MPG\":32.9,\"Cylinders\":4,\"Displacement\":119.0,\"Horsepower\":100.0,\"Weight\":2615.0,\"Acceleration\":14.8,\"Model Year\":81,\"Europe\":0,\"Japan\":1,\"USA\":0},{\"MPG\":31.6,\"Cylinders\":4,\"Displacement\":120.0,\"Horsepower\":74.0,\"Weight\":2635.0,\"Acceleration\":18.3,\"Model Year\":81,\"Europe\":0,\"Japan\":1,\"USA\":0},{\"MPG\":28.1,\"Cylinders\":4,\"Displacement\":141.0,\"Horsepower\":80.0,\"Weight\":3230.0,\"Acceleration\":20.4,\"Model Year\":81,\"Europe\":1,\"Japan\":0,\"USA\":0},{\"MPG\":30.7,\"Cylinders\":6,\"Displacement\":145.0,\"Horsepower\":76.0,\"Weight\":3160.0,\"Acceleration\":19.6,\"Model Year\":81,\"Europe\":1,\"Japan\":0,\"USA\":0},{\"MPG\":25.4,\"Cylinders\":6,\"Displacement\":168.0,\"Horsepower\":116.0,\"Weight\":2900.0,\"Acceleration\":12.6,\"Model Year\":81,\"Europe\":0,\"Japan\":1,\"USA\":0},{\"MPG\":24.2,\"Cylinders\":6,\"Displacement\":146.0,\"Horsepower\":120.0,\"Weight\":2930.0,\"Acceleration\":13.8,\"Model Year\":81,\"Europe\":0,\"Japan\":1,\"USA\":0},{\"MPG\":22.4,\"Cylinders\":6,\"Displacement\":231.0,\"Horsepower\":110.0,\"Weight\":3415.0,\"Acceleration\":15.8,\"Model Year\":81,\"Europe\":0,\"Japan\":0,\"USA\":1},{\"MPG\":26.6,\"Cylinders\":8,\"Displacement\":350.0,\"Horsepower\":105.0,\"Weight\":3725.0,\"Acceleration\":19.0,\"Model Year\":81,\"Europe\":0,\"Japan\":0,\"USA\":1},{\"MPG\":20.2,\"Cylinders\":6,\"Displacement\":200.0,\"Horsepower\":88.0,\"Weight\":3060.0,\"Acceleration\":17.1,\"Model Year\":81,\"Europe\":0,\"Japan\":0,\"USA\":1},{\"MPG\":17.6,\"Cylinders\":6,\"Displacement\":225.0,\"Horsepower\":85.0,\"Weight\":3465.0,\"Acceleration\":16.6,\"Model Year\":81,\"Europe\":0,\"Japan\":0,\"USA\":1},{\"MPG\":28.0,\"Cylinders\":4,\"Displacement\":112.0,\"Horsepower\":88.0,\"Weight\":2605.0,\"Acceleration\":19.6,\"Model Year\":82,\"Europe\":0,\"Japan\":0,\"USA\":1},{\"MPG\":27.0,\"Cylinders\":4,\"Displacement\":112.0,\"Horsepower\":88.0,\"Weight\":2640.0,\"Acceleration\":18.6,\"Model Year\":82,\"Europe\":0,\"Japan\":0,\"USA\":1},{\"MPG\":34.0,\"Cylinders\":4,\"Displacement\":112.0,\"Horsepower\":88.0,\"Weight\":2395.0,\"Acceleration\":18.0,\"Model Year\":82,\"Europe\":0,\"Japan\":0,\"USA\":1},{\"MPG\":31.0,\"Cylinders\":4,\"Displacement\":112.0,\"Horsepower\":85.0,\"Weight\":2575.0,\"Acceleration\":16.2,\"Model Year\":82,\"Europe\":0,\"Japan\":0,\"USA\":1},{\"MPG\":29.0,\"Cylinders\":4,\"Displacement\":135.0,\"Horsepower\":84.0,\"Weight\":2525.0,\"Acceleration\":16.0,\"Model Year\":82,\"Europe\":0,\"Japan\":0,\"USA\":1},{\"MPG\":27.0,\"Cylinders\":4,\"Displacement\":151.0,\"Horsepower\":90.0,\"Weight\":2735.0,\"Acceleration\":18.0,\"Model Year\":82,\"Europe\":0,\"Japan\":0,\"USA\":1},{\"MPG\":24.0,\"Cylinders\":4,\"Displacement\":140.0,\"Horsepower\":92.0,\"Weight\":2865.0,\"Acceleration\":16.4,\"Model Year\":82,\"Europe\":0,\"Japan\":0,\"USA\":1},{\"MPG\":36.0,\"Cylinders\":4,\"Displacement\":105.0,\"Horsepower\":74.0,\"Weight\":1980.0,\"Acceleration\":15.3,\"Model Year\":82,\"Europe\":1,\"Japan\":0,\"USA\":0},{\"MPG\":37.0,\"Cylinders\":4,\"Displacement\":91.0,\"Horsepower\":68.0,\"Weight\":2025.0,\"Acceleration\":18.2,\"Model Year\":82,\"Europe\":0,\"Japan\":1,\"USA\":0},{\"MPG\":31.0,\"Cylinders\":4,\"Displacement\":91.0,\"Horsepower\":68.0,\"Weight\":1970.0,\"Acceleration\":17.6,\"Model Year\":82,\"Europe\":0,\"Japan\":1,\"USA\":0},{\"MPG\":38.0,\"Cylinders\":4,\"Displacement\":105.0,\"Horsepower\":63.0,\"Weight\":2125.0,\"Acceleration\":14.7,\"Model Year\":82,\"Europe\":0,\"Japan\":0,\"USA\":1},{\"MPG\":36.0,\"Cylinders\":4,\"Displacement\":98.0,\"Horsepower\":70.0,\"Weight\":2125.0,\"Acceleration\":17.3,\"Model Year\":82,\"Europe\":0,\"Japan\":0,\"USA\":1},{\"MPG\":36.0,\"Cylinders\":4,\"Displacement\":120.0,\"Horsepower\":88.0,\"Weight\":2160.0,\"Acceleration\":14.5,\"Model Year\":82,\"Europe\":0,\"Japan\":1,\"USA\":0},{\"MPG\":36.0,\"Cylinders\":4,\"Displacement\":107.0,\"Horsepower\":75.0,\"Weight\":2205.0,\"Acceleration\":14.5,\"Model Year\":82,\"Europe\":0,\"Japan\":1,\"USA\":0},{\"MPG\":34.0,\"Cylinders\":4,\"Displacement\":108.0,\"Horsepower\":70.0,\"Weight\":2245.0,\"Acceleration\":16.9,\"Model Year\":82,\"Europe\":0,\"Japan\":1,\"USA\":0},{\"MPG\":38.0,\"Cylinders\":4,\"Displacement\":91.0,\"Horsepower\":67.0,\"Weight\":1965.0,\"Acceleration\":15.0,\"Model Year\":82,\"Europe\":0,\"Japan\":1,\"USA\":0},{\"MPG\":32.0,\"Cylinders\":4,\"Displacement\":91.0,\"Horsepower\":67.0,\"Weight\":1965.0,\"Acceleration\":15.7,\"Model Year\":82,\"Europe\":0,\"Japan\":1,\"USA\":0},{\"MPG\":38.0,\"Cylinders\":4,\"Displacement\":91.0,\"Horsepower\":67.0,\"Weight\":1995.0,\"Acceleration\":16.2,\"Model Year\":82,\"Europe\":0,\"Japan\":1,\"USA\":0},{\"MPG\":25.0,\"Cylinders\":6,\"Displacement\":181.0,\"Horsepower\":110.0,\"Weight\":2945.0,\"Acceleration\":16.4,\"Model Year\":82,\"Europe\":0,\"Japan\":0,\"USA\":1},{\"MPG\":38.0,\"Cylinders\":6,\"Displacement\":262.0,\"Horsepower\":85.0,\"Weight\":3015.0,\"Acceleration\":17.0,\"Model Year\":82,\"Europe\":0,\"Japan\":0,\"USA\":1},{\"MPG\":26.0,\"Cylinders\":4,\"Displacement\":156.0,\"Horsepower\":92.0,\"Weight\":2585.0,\"Acceleration\":14.5,\"Model Year\":82,\"Europe\":0,\"Japan\":0,\"USA\":1},{\"MPG\":22.0,\"Cylinders\":6,\"Displacement\":232.0,\"Horsepower\":112.0,\"Weight\":2835.0,\"Acceleration\":14.7,\"Model Year\":82,\"Europe\":0,\"Japan\":0,\"USA\":1},{\"MPG\":32.0,\"Cylinders\":4,\"Displacement\":144.0,\"Horsepower\":96.0,\"Weight\":2665.0,\"Acceleration\":13.9,\"Model Year\":82,\"Europe\":0,\"Japan\":1,\"USA\":0},{\"MPG\":36.0,\"Cylinders\":4,\"Displacement\":135.0,\"Horsepower\":84.0,\"Weight\":2370.0,\"Acceleration\":13.0,\"Model Year\":82,\"Europe\":0,\"Japan\":0,\"USA\":1},{\"MPG\":27.0,\"Cylinders\":4,\"Displacement\":151.0,\"Horsepower\":90.0,\"Weight\":2950.0,\"Acceleration\":17.3,\"Model Year\":82,\"Europe\":0,\"Japan\":0,\"USA\":1},{\"MPG\":27.0,\"Cylinders\":4,\"Displacement\":140.0,\"Horsepower\":86.0,\"Weight\":2790.0,\"Acceleration\":15.6,\"Model Year\":82,\"Europe\":0,\"Japan\":0,\"USA\":1},{\"MPG\":44.0,\"Cylinders\":4,\"Displacement\":97.0,\"Horsepower\":52.0,\"Weight\":2130.0,\"Acceleration\":24.6,\"Model Year\":82,\"Europe\":1,\"Japan\":0,\"USA\":0},{\"MPG\":32.0,\"Cylinders\":4,\"Displacement\":135.0,\"Horsepower\":84.0,\"Weight\":2295.0,\"Acceleration\":11.6,\"Model Year\":82,\"Europe\":0,\"Japan\":0,\"USA\":1},{\"MPG\":28.0,\"Cylinders\":4,\"Displacement\":120.0,\"Horsepower\":79.0,\"Weight\":2625.0,\"Acceleration\":18.6,\"Model Year\":82,\"Europe\":0,\"Japan\":0,\"USA\":1},{\"MPG\":31.0,\"Cylinders\":4,\"Displacement\":119.0,\"Horsepower\":82.0,\"Weight\":2720.0,\"Acceleration\":19.4,\"Model Year\":82,\"Europe\":0,\"Japan\":0,\"USA\":1}];\n",
       "          document.querySelector(\"#elem\").data = data;\n",
       "        </script>"
      ],
      "text/plain": [
       "<IPython.core.display.HTML object>"
      ]
     },
     "metadata": {},
     "output_type": "display_data"
    }
   ],
   "source": [
    "# Display the Dive visualization for the training data.\n",
    "from IPython.core.display import display, HTML\n",
    "\n",
    "jsonstr = dataset.to_json(orient='records')\n",
    "HTML_TEMPLATE = \"\"\"\n",
    "        <script src=\"https://cdnjs.cloudflare.com/ajax/libs/webcomponentsjs/1.3.3/webcomponents-lite.js\"></script>\n",
    "        <link rel=\"import\" href=\"https://raw.githubusercontent.com/PAIR-code/facets/1.0.0/facets-dist/facets-jupyter.html\">\n",
    "        <facets-dive id=\"elem\" height=\"600\"></facets-dive>\n",
    "        <script>\n",
    "          var data = {jsonstr};\n",
    "          document.querySelector(\"#elem\").data = data;\n",
    "        </script>\"\"\"\n",
    "html = HTML_TEMPLATE.format(jsonstr=jsonstr)\n",
    "display(HTML(html))"
   ]
  },
  {
   "cell_type": "code",
   "execution_count": 36,
   "id": "7ab73041-6532-4f5a-9ba5-74519976106b",
   "metadata": {},
   "outputs": [],
   "source": [
    "with open('output_facets_dive.html','w') as fo:\n",
    "    fo.write(html)"
   ]
  },
  {
   "cell_type": "markdown",
   "id": "ca84f58a-4802-4184-a80d-7cc5a9f109d8",
   "metadata": {},
   "source": [
    "---------------------"
   ]
  },
  {
   "cell_type": "markdown",
   "id": "4e7276a5-8ec9-4339-9e46-d213c9d6dcad",
   "metadata": {},
   "source": [
    "### Facets Overview \n",
    "\n",
    "As the name suggests, this visualization gives an overview of the entire dataset and gives a sense of the shape of each feature of the data. Facets Overview summarizes statistics for each feature and compares the training and test datasets.\n",
    "\n",
    "The Overview automatically gives a quick understanding of the distribution of values across the various features of the data. The distribution can also be compared across the training and testing datasets instantly. If some anomaly exists in the data, it just pops out from the data there and then.\n",
    "\n",
    "Some of the information that can be easily accessed through this feature are:\n",
    "\n",
    "Statistics like mean, median, and Standard Deviation\n",
    "Min and Max values of a column\n",
    "Missing data\n",
    "Values that have zero values\n",
    "Since it is possible to view the distributions across the test dataset, we can easily confirm if the training and testing data follow the same distributions."
   ]
  },
  {
   "cell_type": "code",
   "execution_count": 26,
   "id": "b2e7f8d1-4309-434d-9d82-c5cd1a57e117",
   "metadata": {},
   "outputs": [],
   "source": [
    "# Create the feature stats for the datasets and stringify it.\n",
    "import base64\n",
    "from facets_overview.generic_feature_statistics_generator import GenericFeatureStatisticsGenerator"
   ]
  },
  {
   "cell_type": "code",
   "execution_count": 27,
   "id": "5519bcd6-ae14-41c9-9fa0-7a5621c86570",
   "metadata": {},
   "outputs": [],
   "source": [
    "gfsg = GenericFeatureStatisticsGenerator()\n",
    "proto = gfsg.ProtoFromDataFrames([{'name': 'train', 'table': train_dataset},\n",
    "                                 {'name': 'test', 'table': test_dataset}])\n",
    "protostr = base64.b64encode(proto.SerializeToString()).decode(\"utf-8\")"
   ]
  },
  {
   "cell_type": "code",
   "execution_count": 28,
   "id": "4bce04f7-867d-43c7-9e42-4924a6a94f3f",
   "metadata": {},
   "outputs": [],
   "source": [
    "# Display the facets overview visualization for this data\n",
    "from IPython.core.display import display, HTML\n",
    "\n",
    "HTML_TEMPLATE = \"\"\"\n",
    "        <script src=\"https://cdnjs.cloudflare.com/ajax/libs/webcomponentsjs/1.3.3/webcomponents-lite.js\"></script>\n",
    "        <link rel=\"import\" href=\"https://raw.githubusercontent.com/PAIR-code/facets/1.0.0/facets-dist/facets-jupyter.html\" >\n",
    "        <facets-overview id=\"elem\"></facets-overview>\n",
    "        <script>\n",
    "          document.querySelector(\"#elem\").protoInput = \"{protostr}\";\n",
    "        </script>\"\"\"\n",
    "html = HTML_TEMPLATE.format(protostr=protostr)\n"
   ]
  },
  {
   "cell_type": "code",
   "execution_count": 29,
   "id": "a7d20b7e-68b0-451d-9b58-6027ea43923d",
   "metadata": {},
   "outputs": [],
   "source": [
    "with open('output_facets_overview.html','w') as fo:\n",
    "    fo.write(html)"
   ]
  },
  {
   "cell_type": "markdown",
   "id": "8bb89ec7-f6c7-45c8-8fdc-facc3cd085e8",
   "metadata": {},
   "source": [
    "-----"
   ]
  },
  {
   "cell_type": "code",
   "execution_count": null,
   "id": "a763399d-6cd4-4d74-9c5e-deeea4b12c8f",
   "metadata": {},
   "outputs": [],
   "source": []
  }
 ],
 "metadata": {
  "environment": {
   "kernel": "python3",
   "name": "tf2-gpu.2-8.m98",
   "type": "gcloud",
   "uri": "gcr.io/deeplearning-platform-release/tf2-gpu.2-8:m98"
  },
  "kernelspec": {
   "display_name": "Python 3",
   "language": "python",
   "name": "python3"
  },
  "language_info": {
   "codemirror_mode": {
    "name": "ipython",
    "version": 3
   },
   "file_extension": ".py",
   "mimetype": "text/x-python",
   "name": "python",
   "nbconvert_exporter": "python",
   "pygments_lexer": "ipython3",
   "version": "3.7.12"
  }
 },
 "nbformat": 4,
 "nbformat_minor": 5
}
